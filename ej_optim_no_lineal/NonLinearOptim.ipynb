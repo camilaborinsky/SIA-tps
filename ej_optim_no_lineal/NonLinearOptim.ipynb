{
 "cells": [
  {
   "cell_type": "code",
   "execution_count": 1,
   "metadata": {},
   "outputs": [],
   "source": [
    "inputs = [\n",
    "    [4.4793, -4.0765, -4.0765],\n",
    "    [-4.1793, -4.9218, 1.7664],\n",
    "    [-3.9429, -0.7689, 4.883]\n",
    "  ]\n",
    "expected_output = [0, 1, 1]"
   ]
  },
  {
   "cell_type": "code",
   "execution_count": 2,
   "metadata": {},
   "outputs": [],
   "source": [
    "def g(x):\n",
    "    try:\n",
    "        return math.exp(x) / (1 + math.exp(x))\n",
    "    except:\n",
    "        return 1"
   ]
  },
  {
   "cell_type": "code",
   "execution_count": 3,
   "metadata": {},
   "outputs": [],
   "source": [
    "def f(W, omega, omega_zero, sigma):\n",
    "    outside_sum : float = 0\n",
    "    for j in range(0,2):\n",
    "        inside_sum = 0\n",
    "        for k in range(0,3):\n",
    "            inside_sum += float(omega[j*3+k]) * float(sigma[k])\n",
    "        inside_sum -= omega_zero[j] \n",
    "        inside_g = g(inside_sum)\n",
    "        outside_sum += inside_g * W[j+1] \n",
    "    outside_g = g(outside_sum- W[0])\n",
    "    return outside_g"
   ]
  },
  {
   "cell_type": "code",
   "execution_count": 4,
   "metadata": {},
   "outputs": [],
   "source": [
    "def error(W, omega, omega_zero, exact_values,sigma_list):   \n",
    "    error: float = 0\n",
    "    for i in range(0,3):\n",
    "        error += pow(exact_values[i]-big_f(W, omega, omega_zero,sigma_list[i]),2)\n",
    "    return error"
   ]
  },
  {
   "cell_type": "code",
   "execution_count": 5,
   "metadata": {},
   "outputs": [],
   "source": [
    "optimization_methods = {'GD', 'GC', 'ADAM'}"
   ]
  },
  {
   "cell_type": "code",
   "execution_count": 6,
   "metadata": {},
   "outputs": [],
   "source": [
    "class Individual:\n",
    "    def __init__(self, genotype):\n",
    "        self.genotype = genotype\n",
    "    \n",
    "    def get_genotype_elements(self):\n",
    "        W = self.genotype[0:3]\n",
    "        omega = self.genotype[3:9]\n",
    "        omega_zero = self.genotype[9:11]\n",
    "        \n",
    "        return W, omega, omega_zero"
   ]
  },
  {
   "cell_type": "code",
   "execution_count": 9,
   "metadata": {},
   "outputs": [],
   "source": [
    "from scipy.optimize import minimize\n",
    "def minimize_gd(ind: Individual):\n",
    "    return minimize(error, ind.genotype, args=ind.get_genotype_elements(), method='BFGS')\n",
    "def minimize_cg(ind:Individual):\n",
    "    return minimize(error, ind.genotype, args=ind.get_genotype_elements(), method='CG')"
   ]
  },
  {
   "cell_type": "code",
   "execution_count": null,
   "metadata": {},
   "outputs": [],
   "source": []
  },
  {
   "cell_type": "code",
   "execution_count": null,
   "metadata": {},
   "outputs": [],
   "source": []
  }
 ],
 "metadata": {
  "kernelspec": {
   "display_name": "Python 3 (ipykernel)",
   "language": "python",
   "name": "python3"
  },
  "language_info": {
   "codemirror_mode": {
    "name": "ipython",
    "version": 3
   },
   "file_extension": ".py",
   "mimetype": "text/x-python",
   "name": "python",
   "nbconvert_exporter": "python",
   "pygments_lexer": "ipython3",
   "version": "3.8.10"
  }
 },
 "nbformat": 4,
 "nbformat_minor": 4
}

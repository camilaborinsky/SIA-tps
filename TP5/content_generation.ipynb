{
 "cells": [
  {
   "cell_type": "code",
   "execution_count": null,
   "metadata": {},
   "outputs": [],
   "source": [
    "import matplotlib.pyplot as plt\n",
    "import numpy as np\n",
    "from parser import parse_config, data_converter, sample_set\n",
    "from optimized_autoencoder import OptimizedAutoencoder\n",
    "\n",
    "\n",
    "config_json = parse_config(\"resources/config.json\")\n",
    "activation_function = (lambda x: 1/(1+np.exp(-2*x)))\n",
    "activation_derivative = (lambda x, *args: 2*(1/(1+np.exp(-2*x)))*(1-(1/(1+np.exp(-2*x)))) )\n",
    "training_set = list()\n",
    "testing_set = list()\n",
    "\n",
    "\n",
    "#Parse and sample training data\n",
    "for i in config_json[\"font_numbers\"]:\n",
    "    labels, alphabet = data_converter(\"resources/fonts_\" + str(i) + \".txt\")\n",
    "    alphabet = np.array(alphabet)\n",
    "    flattened_input = np.array(list(map(lambda char: np.array(char).flatten(), alphabet)))\n",
    "    # if training_set is None:\n",
    "    #     training_set = flattened_input\n",
    "    # else:\n",
    "    training_set.extend(sample_set(flattened_input, config_json[\"training_sample\"]))\n",
    "    testing_set.append(list(zip(labels, flattened_input)))\n",
    "\n",
    "\n",
    "autoencoder = OptimizedAutoencoder(config_json[\"optimizer\"],35, 2, config_json[\"architecture\"], activation_function, activation_derivative)\n",
    "autoencoder.train(training_set, training_set, config_json[\"epoch_limit\"])\n",
    "\n"
   ]
  },
  {
   "cell_type": "code",
   "execution_count": null,
   "metadata": {},
   "outputs": [],
   "source": [
    "n = 15\n",
    "dimensions = (7, 5)\n",
    "grid_x = np.linspace(0.05, 0.95, n)\n",
    "grid_y = np.linspace(0.05, 0.95, n)\n",
    "figure = np.zeros((dimensions[0] * n, dimensions[1] * n))\n",
    "for i, yi in enumerate(grid_x):\n",
    "    for j, xi in enumerate(grid_y):\n",
    "        # Include bias in sample\n",
    "        z_sample = np.array([xi, yi])\n",
    "        x_decoded = autoencoder.decode(z_sample)\n",
    "        x_decoded = np.array([0 if e > 0.5 else 1 for e in x_decoded])\n",
    "        digit = x_decoded.reshape(dimensions[0], dimensions[1])\n",
    "        figure[i * dimensions[0]: (i + 1) * dimensions[0],\n",
    "            j * dimensions[1]: (j + 1) * dimensions[1]] = digit\n",
    "plt.figure(figsize=(10, 10))\n",
    "plt.imshow(figure, cmap='Greys_r')\n",
    "plt.show()"
   ]
  }
 ],
 "metadata": {
  "kernelspec": {
   "display_name": "Python 3.8.10 64-bit",
   "language": "python",
   "name": "python3"
  },
  "language_info": {
   "codemirror_mode": {
    "name": "ipython",
    "version": 3
   },
   "file_extension": ".py",
   "mimetype": "text/x-python",
   "name": "python",
   "nbconvert_exporter": "python",
   "pygments_lexer": "ipython3",
   "version": "3.8.10"
  },
  "orig_nbformat": 4,
  "vscode": {
   "interpreter": {
    "hash": "e7370f93d1d0cde622a1f8e1c04877d8463912d04d973331ad4851f04de6915a"
   }
  }
 },
 "nbformat": 4,
 "nbformat_minor": 2
}

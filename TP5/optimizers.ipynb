{
 "cells": [
  {
   "cell_type": "code",
   "execution_count": 3,
   "metadata": {},
   "outputs": [
    {
     "name": "stdout",
     "output_type": "stream",
     "text": [
      "finished initialization\n",
      "Warning: Maximum number of function evaluations has been exceeded.\n",
      "13.877433010414684\n"
     ]
    },
    {
     "data": {
      "image/png": "[encoded data removed]",
      "text/plain": [
       "<Figure size 432x288 with 1 Axes>"
      ]
     },
     "metadata": {
      "needs_background": "light"
     },
     "output_type": "display_data"
    }
   ],
   "source": [
    "from parser import parse_config, data_converter, sample_set\n",
    "from matplotlib import pyplot as plt\n",
    "\n",
    "import numpy as np\n",
    "\n",
    "from optimized_autoencoder import OptimizedAutoencoder\n",
    "\n",
    "def compare_optimizer():\n",
    "    base_output_path = \"output/optimizer/\"\n",
    "    config_json = parse_config(\"resources/config.json\")\n",
    "\n",
    "    training_set = list()\n",
    "    \n",
    "    #Parse and sample training data\n",
    "    for i in config_json[\"font_numbers\"]:\n",
    "        labels, alphabet = data_converter(\"resources/fonts_\" + str(i) + \".txt\")\n",
    "        alphabet = np.array(alphabet)\n",
    "        flattened_input = np.array(list(map(lambda char: np.array(char).flatten(), alphabet)))\n",
    "        # if training_set is None:\n",
    "        #     training_set = flattened_input\n",
    "        # else:\n",
    "        training_set.extend(sample_set(flattened_input, config_json[\"training_sample\"]))\n",
    "        # testing_set.append(list(zip(labels, flattened_input)))\n",
    "    \n",
    "    latent_dimension = 2\n",
    "    update_frequency = 0\n",
    "    execution_count = 5\n",
    "    input_dimension = len(training_set[0])\n",
    "    activation_function = (lambda x: 1/(1+np.exp(-2*x)))\n",
    "    activation_derivative = (lambda x: 2*(1/(1+np.exp(-2*x)))*(1-(1/(1+np.exp(-2*x)))) )\n",
    "    update_learn_rate=None\n",
    "    architecture = config_json[\"architecture\"]\n",
    "    optimizer = config_json[\"optimizer\"]\n",
    "    learning_rate = config_json[\"learning_rate\"]\n",
    "    epoch_limit = config_json[\"epoch_limit\"]\n",
    "\n",
    "    optimized_autoencoder = OptimizedAutoencoder(optimizer, input_dimension, latent_dimension, architecture, activation_function)\n",
    "    print(\"finished initialization\")\n",
    "    final_error, errors = optimized_autoencoder.train(training_set, training_set, epoch_limit)\n",
    "    plt.plot(list(range(len(errors))), errors)\n",
    "    print(final_error)\n",
    "\n",
    "compare_optimizer()"
   ]
  }
 ],
 "metadata": {
  "kernelspec": {
   "display_name": "Python 3.8.10 64-bit",
   "language": "python",
   "name": "python3"
  },
  "language_info": {
   "codemirror_mode": {
    "name": "ipython",
    "version": 3
   },
   "file_extension": ".py",
   "mimetype": "text/x-python",
   "name": "python",
   "nbconvert_exporter": "python",
   "pygments_lexer": "ipython3",
   "version": "3.8.10"
  },
  "orig_nbformat": 4,
  "vscode": {
   "interpreter": {
    "hash": "e7370f93d1d0cde622a1f8e1c04877d8463912d04d973331ad4851f04de6915a"
   }
  }
 },
 "nbformat": 4,
 "nbformat_minor": 2
}

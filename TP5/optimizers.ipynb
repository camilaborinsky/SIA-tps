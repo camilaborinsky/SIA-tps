{
 "cells": [
  {
   "cell_type": "code",
   "execution_count": 1,
   "metadata": {},
   "outputs": [
    {
     "name": "stdout",
     "output_type": "stream",
     "text": [
      "9\n"
     ]
    },
    {
     "name": "stderr",
     "output_type": "stream",
     "text": [
      "/home/camila/Documents/SIA/SIA-20221Q/TP5/optimized_autoencoder.py:80: OptimizeWarning: Unknown solver options: adaptive\n",
      "  res = minimize(fun=self.calculate_flattened_error, x0=flattened_weights,\n",
      "/home/camila/Documents/SIA/SIA-20221Q/TP5/compare_optimizer.py:32: RuntimeWarning: overflow encountered in exp\n",
      "  activation_function = (lambda x: 1/(1+np.exp(-2*x)))\n"
     ]
    },
    {
     "name": "stdout",
     "output_type": "stream",
     "text": [
      "Warning: Maximum number of iterations has been exceeded.\n",
      "Warning: Maximum number of iterations has been exceeded.\n",
      "Warning: Maximum number of iterations has been exceeded.\n",
      "         Current function value: 10.654719\n",
      "         Iterations: 3\n",
      "         Function evaluations: 10676\n",
      "         Gradient evaluations: 4\n",
      "Warning: Maximum number of iterations has been exceeded.\n",
      "         Current function value: 9.692819\n",
      "         Iterations: 3\n",
      "         Function evaluations: 13345\n",
      "         Gradient evaluations: 5\n",
      "Warning: Maximum number of iterations has been exceeded.\n",
      "         Current function value: 11.614378\n",
      "         Iterations: 3\n",
      "         Function evaluations: 10676\n",
      "         Gradient evaluations: 4\n",
      "Warning: Maximum number of iterations has been exceeded.\n",
      "         Current function value: 11.678617\n",
      "         Iterations: 3\n",
      "         Function evaluations: 10676\n",
      "         Gradient evaluations: 4\n",
      "RUNNING THE L-BFGS-B CODE\n",
      "\n",
      "           * * *\n",
      "\n",
      "Machine precision = 2.220D-16\n",
      " N =         2668     M =           10\n",
      "\n",
      "At X0         0 variables are exactly at the bounds\n",
      "\n",
      "At iterate    0    f=  1.39896D+01    |proj g|=  6.59325D-01\n"
     ]
    },
    {
     "name": "stderr",
     "output_type": "stream",
     "text": [
      " This problem is unconstrained.\n"
     ]
    },
    {
     "name": "stdout",
     "output_type": "stream",
     "text": [
      "\n",
      "At iterate    1    f=  1.18275D+01    |proj g|=  3.50751D-01\n",
      "\n",
      "At iterate    2    f=  1.07721D+01    |proj g|=  3.56638D-01\n",
      "\n",
      "At iterate    3    f=  1.02603D+01    |proj g|=  3.90395D-01\n",
      "\n",
      "           * * *\n",
      "\n",
      "Tit   = total number of iterations\n",
      "Tnf   = total number of function evaluations\n",
      "Tnint = total number of segments explored during Cauchy searches\n",
      "Skip  = number of BFGS updates skipped\n",
      "Nact  = number of active bounds at final generalized Cauchy point\n",
      "Projg = norm of the final projected gradient\n",
      "F     = final function value\n",
      "\n",
      "           * * *\n",
      "\n",
      "   N    Tit     Tnf  Tnint  Skip  Nact     Projg        F\n",
      " 2668      3      4      1     0     0   3.904D-01   1.026D+01\n",
      "  F =   10.260290378934664     \n",
      "\n",
      "STOP: TOTAL NO. of ITERATIONS REACHED LIMIT                 \n"
     ]
    },
    {
     "name": "stderr",
     "output_type": "stream",
     "text": [
      " This problem is unconstrained.\n"
     ]
    },
    {
     "name": "stdout",
     "output_type": "stream",
     "text": [
      "RUNNING THE L-BFGS-B CODE\n",
      "\n",
      "           * * *\n",
      "\n",
      "Machine precision = 2.220D-16\n",
      " N =         2668     M =           10\n",
      "\n",
      "At X0         0 variables are exactly at the bounds\n",
      "\n",
      "At iterate    0    f=  1.49821D+01    |proj g|=  3.88148D-01\n",
      "\n",
      "At iterate    1    f=  1.22647D+01    |proj g|=  4.31119D-01\n",
      "\n",
      "At iterate    2    f=  1.15402D+01    |proj g|=  1.72866D-01\n",
      "\n",
      "At iterate    3    f=  1.06699D+01    |proj g|=  1.64816D-01\n",
      "\n",
      "           * * *\n",
      "\n",
      "Tit   = total number of iterations\n",
      "Tnf   = total number of function evaluations\n",
      "Tnint = total number of segments explored during Cauchy searches\n",
      "Skip  = number of BFGS updates skipped\n",
      "Nact  = number of active bounds at final generalized Cauchy point\n",
      "Projg = norm of the final projected gradient\n",
      "F     = final function value\n",
      "\n",
      "           * * *\n",
      "\n",
      "   N    Tit     Tnf  Tnint  Skip  Nact     Projg        F\n",
      " 2668      3      6      1     0     0   1.648D-01   1.067D+01\n",
      "  F =   10.669932790036800     \n",
      "\n",
      "STOP: TOTAL NO. of ITERATIONS REACHED LIMIT                 \n"
     ]
    }
   ],
   "source": [
    "from compare_optimizer import compare_optimizer\n",
    "\n",
    "compare_optimizer()"
   ]
  }
 ],
 "metadata": {
  "kernelspec": {
   "display_name": "Python 3.8.10 64-bit",
   "language": "python",
   "name": "python3"
  },
  "language_info": {
   "codemirror_mode": {
    "name": "ipython",
    "version": 3
   },
   "file_extension": ".py",
   "mimetype": "text/x-python",
   "name": "python",
   "nbconvert_exporter": "python",
   "pygments_lexer": "ipython3",
   "version": "3.8.10"
  },
  "orig_nbformat": 4,
  "vscode": {
   "interpreter": {
    "hash": "e7370f93d1d0cde622a1f8e1c04877d8463912d04d973331ad4851f04de6915a"
   }
  }
 },
 "nbformat": 4,
 "nbformat_minor": 2
}

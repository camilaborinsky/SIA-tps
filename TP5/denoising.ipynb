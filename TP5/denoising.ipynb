{
 "cells": [
  {
   "cell_type": "code",
   "execution_count": null,
   "metadata": {},
   "outputs": [],
   "source": [
    "from parser import parse_config, data_converter, sample_set\n",
    "from visualize_letters import print_letter, generate_noisy_samples, add_noise_to_letter\n",
    "import matplotlib.pyplot as plt\n",
    "import numpy as np\n",
    "from optimized_autoencoder import OptimizedAutoencoder\n",
    "\n",
    "config_json = parse_config(\"resources/config.json\")\n",
    "activation_function = (lambda x: 1/(1+np.exp(-2*x)))\n",
    "activation_derivative = (lambda x, *args: 2*(1/(1+np.exp(-2*x)))*(1-(1/(1+np.exp(-2*x)))) )\n",
    "denoising_config = config_json[\"denoising\"]\n",
    "# noise_prob = denoising_config[\"noise_prob\"]\n",
    "sample_size = denoising_config[\"sample_size\"]\n",
    "noise_probabilities = denoising_config[\"multiple_noise_prob\"]\n",
    "font_letters=list()\n",
    "training_set=list()\n",
    "expected_output = list()\n",
    "for i in config_json[\"font_numbers\"]:\n",
    " \n",
    "    print(\"New letter====\")\n",
    "    labels, alphabet = data_converter(f\"resources/fonts_{i}.txt\")\n",
    "    indexes = np.random.randint(0, len(alphabet), 2)\n",
    "    for idx in indexes:\n",
    "        font_letters.append(np.array(alphabet[idx]))\n",
    "        for p in noise_probabilities:\n",
    "            noisy_letters = generate_noisy_samples(np.array(alphabet[idx]), sample_size, p)\n",
    "            flattened_noisy_letters = np.array(list(map(lambda char: np.array(char).flatten(), noisy_letters)))\n",
    "            training_set.extend(flattened_noisy_letters)\n",
    "            for j in range(sample_size):\n",
    "                expected_output.append(np.array(alphabet[idx]).flatten())\n",
    "    \n",
    "autoencoder = OptimizedAutoencoder(optimizer=\"powell\", \n",
    "input_dim=len(training_set[0]), latent_dim=5, hidden_layers=[25, 17], \n",
    "activation=activation_function, activation_derivative=activation_derivative)\n",
    "\n",
    "# for i in range(sample_size*len(noise_probabilities)):\n",
    "#     expected_output.append(np.array(alphabet[idx]).flatten())\n",
    "# print(expected_output)\n",
    "print(len(training_set))\n",
    "print(len(expected_output))\n",
    "autoencoder.train(training_set,expected_output , max_iterations=20)\n",
    "\n",
    "for let in font_letters:\n",
    "    print_letter(let)\n",
    "    for p in noise_probabilities:\n",
    "        noisy_letter = add_noise_to_letter(let, p)\n",
    "        print_letter(noisy_letter)\n",
    "        output, err = autoencoder.reconstruct(noisy_letter.flatten(), let.flatten())\n",
    "        # print(\"output: \"+str(output))\n",
    "        print_letter(output.reshape(noisy_letters[0].shape))\n",
    "        print(f\"Error: {err}\")\n",
    "\n",
    "\n",
    "\n",
    "\n",
    "\n"
   ]
  }
 ],
 "metadata": {
  "kernelspec": {
   "display_name": "Python 3.8.10 64-bit",
   "language": "python",
   "name": "python3"
  },
  "language_info": {
   "codemirror_mode": {
    "name": "ipython",
    "version": 3
   },
   "file_extension": ".py",
   "mimetype": "text/x-python",
   "name": "python",
   "nbconvert_exporter": "python",
   "pygments_lexer": "ipython3",
   "version": "3.8.10"
  },
  "orig_nbformat": 4,
  "vscode": {
   "interpreter": {
    "hash": "e7370f93d1d0cde622a1f8e1c04877d8463912d04d973331ad4851f04de6915a"
   }
  }
 },
 "nbformat": 4,
 "nbformat_minor": 2
}

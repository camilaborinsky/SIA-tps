{
 "cells": [
  {
   "cell_type": "code",
   "execution_count": null,
   "metadata": {},
   "outputs": [],
   "source": [
    "import utils.file_utils as fu\n",
    "import perceptrons.multilayer_perceptron as mlp\n",
    "import numpy as np"
   ]
  },
  {
   "cell_type": "code",
   "execution_count": null,
   "metadata": {},
   "outputs": [],
   "source": [
    "config_file_path = \"ex_2/resources/config.json\"\n",
    "config_file = fu.parse_config(config_file_path)\n",
    "\n",
    "path_to_data = config_file[\"path_to_data\"]\n",
    "epoch_limit = int(config_file[\"epoch_limit\"])\n",
    "execution_count = int(config_file[\"execution_count\"])\n",
    "momentum = bool(config_file[\"momentum\"])\n",
    "cross_validation = int(config_file[\"cross_validation\"])\n",
    "learn_rate = float(config_file[\"learn_rate\"])\n",
    "adaptive_learn_rate = bool(config_file[\"adaptive_learn_rate\"])\n",
    "if adaptive_learn_rate:\n",
    "    update_learn_rate = (lambda lr, k: lr + 0.3 if k >= 3 else (lr - lr*0.1 if k <=-3 else 0)) \n",
    "else:\n",
    "    update_learn_rate = None\n",
    "if config_file[\"activation_function\"] == \"linear\":\n",
    "    activation_function = (lambda x: x)\n",
    "    activation_derivative = (lambda x: 1)\n",
    "elif config_file[\"activation_function\"] == \"sigmoid\":\n",
    "    activation_function = (lambda x: 1/(1+np.exp(-2*x)))\n",
    "    activation_derivative = (lambda x: 2*(1/(1+np.exp(-2*x)))*(1-(1/(1+np.exp(-2*x)))) )\n"
   ]
  },
  {
   "cell_type": "code",
   "execution_count": null,
   "metadata": {},
   "outputs": [],
   "source": [
    "training, expected = fu.parse_training_set_from_file(path_to_data)\n",
    "p = mlp.MultiLayerPerceptron(learning_rate=learn_rate, hidden_layers=[], input_dim=len(training[0]), output_dim=len(expected[0]), update_frequency=0, activation_function=activation_function, activation_function_derivative=activation_derivative, update_learn_rate=update_learn_rate, scale_output=True,momentum=momentum)"
   ]
  }
 ],
 "metadata": {
  "language_info": {
   "name": "python"
  },
  "orig_nbformat": 4
 },
 "nbformat": 4,
 "nbformat_minor": 2
}

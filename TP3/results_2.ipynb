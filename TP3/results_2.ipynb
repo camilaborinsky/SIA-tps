{
 "cells": [
  {
   "cell_type": "code",
   "execution_count": 1,
   "metadata": {},
   "outputs": [],
   "source": [
    "import utils.file_utils as fu\n",
    "import perceptrons.multilayer_perceptron as mlp\n",
    "import numpy as np\n",
    "import metrics as m\n",
    "import graphing as g"
   ]
  },
  {
   "cell_type": "code",
   "execution_count": 7,
   "metadata": {},
   "outputs": [],
   "source": [
    "config_file_path = \"ex_2/resources/config.json\"\n",
    "config_file = fu.parse_config(config_file_path)\n",
    "\n",
    "path_to_data = config_file[\"path_to_data\"]\n",
    "epoch_limit = int(config_file[\"epoch_limit\"])\n",
    "execution_count = int(config_file[\"execution_count\"])\n",
    "momentum = bool(config_file[\"momentum\"])\n",
    "cross_validation_k = int(config_file[\"cross_validation\"])\n",
    "learn_rate = float(config_file[\"learn_rate\"])\n",
    "adaptive_learn_rate = bool(config_file[\"adaptive_learn_rate\"])\n",
    "if adaptive_learn_rate:\n",
    "    update_learn_rate = (lambda lr, k: lr + 0.3 if k >= 3 else (lr - lr*0.1 if k <=-3 else 0)) \n",
    "else:\n",
    "    update_learn_rate = None\n",
    "if config_file[\"activation_function\"] == \"linear\":\n",
    "    activation_function = (lambda x: x)\n",
    "    activation_derivative = (lambda x: 1)\n",
    "elif config_file[\"activation_function\"] == \"sigmoid\":\n",
    "    activation_function = (lambda x: 1/(1+np.exp(-2*x)))\n",
    "    activation_derivative = (lambda x: 2*(1/(1+np.exp(-2*x)))*(1-(1/(1+np.exp(-2*x)))) )\n"
   ]
  },
  {
   "cell_type": "code",
   "execution_count": 8,
   "metadata": {},
   "outputs": [],
   "source": [
    "training, expected = fu.parse_training_set_from_file(path_to_data)\n",
    "p = mlp.MultiLayerPerceptron(learning_rate=learn_rate, hidden_layers=[], input_dim=len(training[0]), output_dim=len(expected[0]), update_frequency=0, activation_function=activation_function, activation_function_derivative=activation_derivative, update_learn_rate=update_learn_rate, scale_output=True,momentum=momentum)"
   ]
  },
  {
   "cell_type": "code",
   "execution_count": 9,
   "metadata": {},
   "outputs": [
    {
     "data": {
      "text/plain": [
       "({0: array([[-0.24687406],\n",
       "         [ 0.25334888],\n",
       "         [ 0.25363125],\n",
       "         [ 0.25325512]])},\n",
       " 0.02906451781855972)"
      ]
     },
     "execution_count": 9,
     "metadata": {},
     "output_type": "execute_result"
    }
   ],
   "source": [
    "\n",
    "open(path_to_data+\"/error_vs_iteration.txt\", \"w\").close()\n",
    "p.train(training, expected, epoch_limit, callback=(lambda e, error, weights, output: fu.write_error_vs_iteration(path_to_data, error, e)))"
   ]
  },
  {
   "cell_type": "code",
   "execution_count": 10,
   "metadata": {},
   "outputs": [
    {
     "data": {
      "image/png": "[encoded data removed]",
      "text/plain": [
       "<Figure size 432x288 with 1 Axes>"
      ]
     },
     "metadata": {
      "needs_background": "light"
     },
     "output_type": "display_data"
    }
   ],
   "source": [
    "g.error_vs_iteration(path_to_data, False)"
   ]
  },
  {
   "cell_type": "code",
   "execution_count": 6,
   "metadata": {},
   "outputs": [
    {
     "ename": "KeyboardInterrupt",
     "evalue": "",
     "output_type": "error",
     "traceback": [
      "\u001b[0;31m---------------------------------------------------------------------------\u001b[0m",
      "\u001b[0;31mKeyboardInterrupt\u001b[0m                         Traceback (most recent call last)",
      "\u001b[1;32m/home/camila/Documents/SIA/SIA-20221Q/TP3/results_2.ipynb Cell 6'\u001b[0m in \u001b[0;36m<cell line: 2>\u001b[0;34m()\u001b[0m\n\u001b[1;32m      <a href='vscode-notebook-cell:/home/camila/Documents/SIA/SIA-20221Q/TP3/results_2.ipynb#ch0000005?line=0'>1</a>\u001b[0m errors \u001b[39m=\u001b[39m []\n\u001b[1;32m      <a href='vscode-notebook-cell:/home/camila/Documents/SIA/SIA-20221Q/TP3/results_2.ipynb#ch0000005?line=1'>2</a>\u001b[0m \u001b[39mfor\u001b[39;00m i \u001b[39min\u001b[39;00m \u001b[39mrange\u001b[39m(execution_count):\n\u001b[0;32m----> <a href='vscode-notebook-cell:/home/camila/Documents/SIA/SIA-20221Q/TP3/results_2.ipynb#ch0000005?line=2'>3</a>\u001b[0m     w, e \u001b[39m=\u001b[39m p\u001b[39m.\u001b[39;49mtrain(training, expected, epoch_limit, callback\u001b[39m=\u001b[39;49m\u001b[39mNone\u001b[39;49;00m)\n\u001b[1;32m      <a href='vscode-notebook-cell:/home/camila/Documents/SIA/SIA-20221Q/TP3/results_2.ipynb#ch0000005?line=3'>4</a>\u001b[0m     errors\u001b[39m.\u001b[39mappend(e)\n\u001b[1;32m      <a href='vscode-notebook-cell:/home/camila/Documents/SIA/SIA-20221Q/TP3/results_2.ipynb#ch0000005?line=4'>5</a>\u001b[0m f \u001b[39m=\u001b[39m \u001b[39mopen\u001b[39m(path_to_data\u001b[39m+\u001b[39m\u001b[39m\"\u001b[39m\u001b[39m/learning_rates.txt\u001b[39m\u001b[39m\"\u001b[39m, \u001b[39m\"\u001b[39m\u001b[39ma\u001b[39m\u001b[39m\"\u001b[39m)\n",
      "File \u001b[0;32m~/Documents/SIA/SIA-20221Q/TP3/perceptrons/multilayer_perceptron.py:122\u001b[0m, in \u001b[0;36mMultiLayerPerceptron.train\u001b[0;34m(self, training_set, expected_output, epoch_limit, callback)\u001b[0m\n\u001b[1;32m    <a href='file:///home/camila/Documents/SIA/SIA-20221Q/TP3/perceptrons/multilayer_perceptron.py?line=119'>120</a>\u001b[0m             \u001b[39mself\u001b[39m\u001b[39m.\u001b[39mweights_diff \u001b[39m=\u001b[39m \u001b[39mNone\u001b[39;00m\n\u001b[1;32m    <a href='file:///home/camila/Documents/SIA/SIA-20221Q/TP3/perceptrons/multilayer_perceptron.py?line=120'>121</a>\u001b[0m     i\u001b[39m+\u001b[39m\u001b[39m=\u001b[39m\u001b[39m1\u001b[39m\n\u001b[0;32m--> <a href='file:///home/camila/Documents/SIA/SIA-20221Q/TP3/perceptrons/multilayer_perceptron.py?line=121'>122</a>\u001b[0m error \u001b[39m=\u001b[39m \u001b[39mself\u001b[39;49m\u001b[39m.\u001b[39;49mcalculate_error(training_set, expected_output)\n\u001b[1;32m    <a href='file:///home/camila/Documents/SIA/SIA-20221Q/TP3/perceptrons/multilayer_perceptron.py?line=122'>123</a>\u001b[0m \u001b[39mif\u001b[39;00m \u001b[39mself\u001b[39m\u001b[39m.\u001b[39merror_min \u001b[39mis\u001b[39;00m \u001b[39mNone\u001b[39;00m \u001b[39mor\u001b[39;00m error \u001b[39m<\u001b[39m \u001b[39mself\u001b[39m\u001b[39m.\u001b[39merror_min:\n\u001b[1;32m    <a href='file:///home/camila/Documents/SIA/SIA-20221Q/TP3/perceptrons/multilayer_perceptron.py?line=123'>124</a>\u001b[0m     \u001b[39mself\u001b[39m\u001b[39m.\u001b[39merror_min \u001b[39m=\u001b[39m error\n",
      "File \u001b[0;32m~/Documents/SIA/SIA-20221Q/TP3/perceptrons/multilayer_perceptron.py:135\u001b[0m, in \u001b[0;36mMultiLayerPerceptron.calculate_error\u001b[0;34m(self, training_set, expected_output)\u001b[0m\n\u001b[1;32m    <a href='file:///home/camila/Documents/SIA/SIA-20221Q/TP3/perceptrons/multilayer_perceptron.py?line=132'>133</a>\u001b[0m error \u001b[39m=\u001b[39m \u001b[39m0\u001b[39m\n\u001b[1;32m    <a href='file:///home/camila/Documents/SIA/SIA-20221Q/TP3/perceptrons/multilayer_perceptron.py?line=133'>134</a>\u001b[0m \u001b[39mfor\u001b[39;00m i \u001b[39min\u001b[39;00m \u001b[39mrange\u001b[39m(\u001b[39mlen\u001b[39m(expected_output)):\n\u001b[0;32m--> <a href='file:///home/camila/Documents/SIA/SIA-20221Q/TP3/perceptrons/multilayer_perceptron.py?line=134'>135</a>\u001b[0m     output \u001b[39m=\u001b[39m \u001b[39mself\u001b[39;49m\u001b[39m.\u001b[39;49mforward_propagation(training_set[i])\n\u001b[1;32m    <a href='file:///home/camila/Documents/SIA/SIA-20221Q/TP3/perceptrons/multilayer_perceptron.py?line=135'>136</a>\u001b[0m     \u001b[39mfor\u001b[39;00m j \u001b[39min\u001b[39;00m \u001b[39mrange\u001b[39m(\u001b[39mself\u001b[39m\u001b[39m.\u001b[39moutput_dim):\n\u001b[1;32m    <a href='file:///home/camila/Documents/SIA/SIA-20221Q/TP3/perceptrons/multilayer_perceptron.py?line=136'>137</a>\u001b[0m         error \u001b[39m+\u001b[39m\u001b[39m=\u001b[39m (expected_output[i][j] \u001b[39m-\u001b[39m output[j])\u001b[39m*\u001b[39m\u001b[39m*\u001b[39m\u001b[39m2\u001b[39m\n",
      "File \u001b[0;32m~/Documents/SIA/SIA-20221Q/TP3/perceptrons/multilayer_perceptron.py:54\u001b[0m, in \u001b[0;36mMultiLayerPerceptron.forward_propagation\u001b[0;34m(self, input)\u001b[0m\n\u001b[1;32m     <a href='file:///home/camila/Documents/SIA/SIA-20221Q/TP3/perceptrons/multilayer_perceptron.py?line=51'>52</a>\u001b[0m \u001b[39m# self.output = list(map(lambda h: self.activation(h), self.hidden_outputs[len(self.hidden_layers)+1]))\u001b[39;00m\n\u001b[1;32m     <a href='file:///home/camila/Documents/SIA/SIA-20221Q/TP3/perceptrons/multilayer_perceptron.py?line=52'>53</a>\u001b[0m \u001b[39mif\u001b[39;00m \u001b[39mself\u001b[39m\u001b[39m.\u001b[39mscale_needed \u001b[39m==\u001b[39m\u001b[39mTrue\u001b[39;00m:\n\u001b[0;32m---> <a href='file:///home/camila/Documents/SIA/SIA-20221Q/TP3/perceptrons/multilayer_perceptron.py?line=53'>54</a>\u001b[0m     \u001b[39mreturn\u001b[39;00m \u001b[39mself\u001b[39;49m\u001b[39m.\u001b[39;49mscale_output()\n\u001b[1;32m     <a href='file:///home/camila/Documents/SIA/SIA-20221Q/TP3/perceptrons/multilayer_perceptron.py?line=54'>55</a>\u001b[0m \u001b[39mreturn\u001b[39;00m \u001b[39mself\u001b[39m\u001b[39m.\u001b[39moutput\n",
      "File \u001b[0;32m~/Documents/SIA/SIA-20221Q/TP3/perceptrons/multilayer_perceptron.py:156\u001b[0m, in \u001b[0;36mMultiLayerPerceptron.scale_output\u001b[0;34m(self)\u001b[0m\n\u001b[1;32m    <a href='file:///home/camila/Documents/SIA/SIA-20221Q/TP3/perceptrons/multilayer_perceptron.py?line=154'>155</a>\u001b[0m \u001b[39mdef\u001b[39;00m \u001b[39mscale_output\u001b[39m(\u001b[39mself\u001b[39m):\n\u001b[0;32m--> <a href='file:///home/camila/Documents/SIA/SIA-20221Q/TP3/perceptrons/multilayer_perceptron.py?line=155'>156</a>\u001b[0m     new_output \u001b[39m=\u001b[39m \u001b[39mlist\u001b[39;49m(\u001b[39mmap\u001b[39;49m(\u001b[39mlambda\u001b[39;49;00m h: h \u001b[39m*\u001b[39;49m(\u001b[39mself\u001b[39;49m\u001b[39m.\u001b[39;49mmax_output[\u001b[39m0\u001b[39;49m] \u001b[39m-\u001b[39;49m \u001b[39mself\u001b[39;49m\u001b[39m.\u001b[39;49mmin_output[\u001b[39m0\u001b[39;49m])\u001b[39m+\u001b[39;49m \u001b[39mself\u001b[39;49m\u001b[39m.\u001b[39;49mmin_output[\u001b[39m0\u001b[39;49m], \u001b[39mself\u001b[39;49m\u001b[39m.\u001b[39;49moutput) )\n\u001b[1;32m    <a href='file:///home/camila/Documents/SIA/SIA-20221Q/TP3/perceptrons/multilayer_perceptron.py?line=157'>158</a>\u001b[0m     \u001b[39mreturn\u001b[39;00m new_output\n",
      "\u001b[0;31mKeyboardInterrupt\u001b[0m: "
     ]
    }
   ],
   "source": [
    "errors = []\n",
    "for i in range(execution_count):\n",
    "    w, e = p.train(training, expected, epoch_limit, callback=None)\n",
    "    errors.append(e)\n",
    "f = open(path_to_data+\"/learning_rates.txt\", \"a\")\n",
    "f.write(\"{},{},{}\\n\".format(learn_rate, np.mean(errors), np.std(errors)))\n",
    "f.close()"
   ]
  },
  {
   "cell_type": "code",
   "execution_count": null,
   "metadata": {},
   "outputs": [],
   "source": [
    "if config_file[\"activation_function\"] == \"sigmoid\":\n",
    "  \n",
    "    training_groups, expected_groups = m.cross_validation(training,cross_validation_k,expected)\n",
    "    err_mins = []\n",
    "    rmsd_mins = []\n",
    "    for i in range(execution_count):\n",
    "        err_min = None\n",
    "        rmsd_min = None\n",
    "        for i, test_group in enumerate(training_groups):\n",
    "            errors =[]\n",
    "            t = training_groups[:i] + training_groups[i+1:]\n",
    "            training_set = [item for sublist in t for item in sublist]\n",
    "            e = expected_groups[:i] + expected_groups[i+1:]\n",
    "            expected_set = [item for sublist in e for item in sublist]\n",
    "            print(len(training_set))\n",
    "            print(len(training_set[0]))\n",
    "            w, err = p.train(training_set, expected_set, epoch_limit, callback=None)\n",
    "        \n",
    "            # Test\n",
    "            for j, test_entry in enumerate(test_group):\n",
    "                prediction = p.forward_propagation(test_entry)\n",
    "                expected_output = expected_groups[i][j]\n",
    "                errors.append(np.abs(np.subtract(prediction , expected_output)))\n",
    "\n",
    "            # mean_error = m.mean_error(errors)\n",
    "            max_error = m.max_error(errors)\n",
    "            # min_error = m.min_error(errors)\n",
    "            # mse_error = m.mse(errors)\n",
    "            rmsd_error = m.rmsd(errors)\n",
    "            if err_min == None or err < err_min:\n",
    "                err_min = err\n",
    "            if rmsd_min == None or rmsd_error < rmsd_min:\n",
    "                rmsd_min = rmsd_error\n",
    "        err_mins.append(err_min)\n",
    "        rmsd_mins.append(rmsd_min)\n",
    "   \n"
   ]
  },
  {
   "cell_type": "code",
   "execution_count": null,
   "metadata": {},
   "outputs": [],
   "source": [
    "f = open(path_to_data+\"/k_vs_errors.txt\", \"a\")\n",
    "f.write(\"{},{},{},{},{}\\n\".format(cross_validation_k, np.mean(err_mins), np.std(err_mins), np.mean(rmsd_mins), np.std(rmsd_mins)))\n",
    "f.close()"
   ]
  }
 ],
 "metadata": {
  "interpreter": {
   "hash": "916dbcbb3f70747c44a77c7bcd40155683ae19c65e1c03b4aa3499c5328201f1"
  },
  "kernelspec": {
   "display_name": "Python 3.8.10 64-bit",
   "language": "python",
   "name": "python3"
  },
  "language_info": {
   "codemirror_mode": {
    "name": "ipython",
    "version": 3
   },
   "file_extension": ".py",
   "mimetype": "text/x-python",
   "name": "python",
   "nbconvert_exporter": "python",
   "pygments_lexer": "ipython3",
   "version": "3.8.10"
  },
  "orig_nbformat": 4
 },
 "nbformat": 4,
 "nbformat_minor": 2
}

{
 "cells": [
  {
   "cell_type": "code",
   "execution_count": 1,
   "metadata": {},
   "outputs": [],
   "source": [
    "import matplotlib.pyplot as plt"
   ]
  },
  {
   "cell_type": "code",
   "execution_count": 4,
   "metadata": {},
   "outputs": [],
   "source": [
    "learning_rates_paths = \"ex_2/resources/training/learning_rates.txt\"\n",
    "k_paths = \"ex_2/resources/training/k_vs_errors.txt\""
   ]
  },
  {
   "cell_type": "code",
   "execution_count": 5,
   "metadata": {},
   "outputs": [
    {
     "data": {
      "text/plain": [
       "<ErrorbarContainer object of 3 artists>"
      ]
     },
     "execution_count": 5,
     "metadata": {},
     "output_type": "execute_result"
    },
    {
     "data": {
      "image/png": "[encoded data removed]",
      "text/plain": [
       "<Figure size 432x288 with 1 Axes>"
      ]
     },
     "metadata": {
      "needs_background": "light"
     },
     "output_type": "display_data"
    }
   ],
   "source": [
    "f = open(learning_rates_paths, \"r\")\n",
    "lines = f.readlines()\n",
    "learning_rates = []\n",
    "mean_errors = []\n",
    "std_errors =[]\n",
    "for line in lines:\n",
    "    lr, mean, std = line.strip().split(\",\")\n",
    "    learning_rates.append(float(lr))\n",
    "    mean_errors.append(float(mean))\n",
    "    std_errors.append(float(std))\n",
    "f.close()\n",
    "plt.scatter(learning_rates, mean_errors)\n",
    "plt.xlabel(\"Learning Rate\")\n",
    "plt.ylabel(\"Mean Error\")\n",
    "plt.errorbar(learning_rates, mean_errors, yerr=std_errors, ecolor = 'grey', elinewidth = 0.5, capsize=1.5, fmt=\"o\")\n"
   ]
  },
  {
   "cell_type": "code",
   "execution_count": 7,
   "metadata": {},
   "outputs": [
    {
     "data": {
      "text/plain": [
       "<matplotlib.legend.Legend at 0x7fc4bbc817f0>"
      ]
     },
     "execution_count": 7,
     "metadata": {},
     "output_type": "execute_result"
    },
    {
     "data": {
      "image/png": "[encoded data removed]",
      "text/plain": [
       "<Figure size 432x288 with 1 Axes>"
      ]
     },
     "metadata": {
      "needs_background": "light"
     },
     "output_type": "display_data"
    }
   ],
   "source": [
    "f = open(k_paths, \"r\")\n",
    "lines = f.readlines()\n",
    "training_percentages = []\n",
    "mean_errors = []\n",
    "std_errors =[]\n",
    "mean_rmsd =[]\n",
    "std_rmsd =[]\n",
    "for line in lines:\n",
    "    k, e_mean, e_std, rmsd_mean, rmsd_std  = line.strip().split(\",\")\n",
    "    training_percentages.append(((int(k)-1)/int(k))*100)\n",
    "    mean_errors.append(float(mean))\n",
    "    std_errors.append(float(std))\n",
    "    mean_rmsd.append(float(rmsd_mean))\n",
    "    std_rmsd.append(float(rmsd_std))\n",
    "f.close()\n",
    "plt.scatter(training_percentages, mean_errors, label=\"Training Error\")\n",
    "plt.scatter(training_percentages, mean_rmsd, label=\"Testing Error\")\n",
    "plt.xlabel(\"Training set (%)\")\n",
    "plt.ylabel(\"Error\")\n",
    "plt.errorbar(training_percentages, mean_errors, yerr=std_errors, ecolor = 'grey', elinewidth = 0.5, capsize=1.5, fmt=\"o\")\n",
    "plt.errorbar(training_percentages, mean_rmsd, yerr=std_rmsd, ecolor = 'grey', elinewidth = 0.5, capsize=1.5, fmt=\"o\")\n",
    "plt.legend()"
   ]
  }
 ],
 "metadata": {
  "interpreter": {
   "hash": "916dbcbb3f70747c44a77c7bcd40155683ae19c65e1c03b4aa3499c5328201f1"
  },
  "kernelspec": {
   "display_name": "Python 3.8.10 64-bit",
   "language": "python",
   "name": "python3"
  },
  "language_info": {
   "codemirror_mode": {
    "name": "ipython",
    "version": 3
   },
   "file_extension": ".py",
   "mimetype": "text/x-python",
   "name": "python",
   "nbconvert_exporter": "python",
   "pygments_lexer": "ipython3",
   "version": "3.8.10"
  },
  "orig_nbformat": 4
 },
 "nbformat": 4,
 "nbformat_minor": 2
}

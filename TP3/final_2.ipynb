{
 "cells": [
  {
   "cell_type": "code",
   "execution_count": 5,
   "metadata": {},
   "outputs": [],
   "source": [
    "import matplotlib.pyplot as plt\n",
    "import utils.file_utils as fu\n",
    "import numpy as np\n",
    "import perceptrons.multilayer_perceptron as mlp"
   ]
  },
  {
   "cell_type": "code",
   "execution_count": 6,
   "metadata": {},
   "outputs": [],
   "source": [
    "learning_rates_paths = \"ex_2/resources/training/learning_rates.txt\"\n",
    "k_paths = \"ex_2/resources/training/k_vs_errors.txt\"\n",
    "open(learning_rates_paths, \"w\").close()\n",
    "open(k_paths, \"w\").close()"
   ]
  },
  {
   "cell_type": "code",
   "execution_count": 7,
   "metadata": {},
   "outputs": [],
   "source": [
    "config_file_path = \"ex_2/resources/config.json\"\n",
    "config_file = fu.parse_config(config_file_path)\n",
    "\n",
    "path_to_data = config_file[\"path_to_data\"]\n",
    "epoch_limit = int(config_file[\"epoch_limit\"])\n",
    "execution_count = int(config_file[\"execution_count\"])\n",
    "momentum = bool(config_file[\"momentum\"])\n",
    "cross_validation_k = int(config_file[\"cross_validation\"])\n",
    "learn_rate = float(config_file[\"learn_rate\"])\n",
    "adaptive_learn_rate = bool(config_file[\"adaptive_learn_rate\"])\n",
    "if adaptive_learn_rate:\n",
    "    update_learn_rate = (lambda lr, k: lr + 0.3 if k >= 3 else (lr - lr*0.1 if k <=-3 else 0)) \n",
    "else:\n",
    "    update_learn_rate = None\n",
    "if config_file[\"activation_function\"] == \"linear\":\n",
    "    activation_function = (lambda x: x)\n",
    "    activation_derivative = (lambda x: 1)\n",
    "elif config_file[\"activation_function\"] == \"sigmoid\":\n",
    "    activation_function = (lambda x: 1/(1+np.exp(-2*x)))\n",
    "    activation_derivative = (lambda x: 2*(1/(1+np.exp(-2*x)))*(1-(1/(1+np.exp(-2*x)))) )"
   ]
  },
  {
   "cell_type": "code",
   "execution_count": 8,
   "metadata": {},
   "outputs": [
    {
     "ename": "KeyboardInterrupt",
     "evalue": "",
     "output_type": "error",
     "traceback": [
      "\u001b[0;31m---------------------------------------------------------------------------\u001b[0m",
      "\u001b[0;31mKeyboardInterrupt\u001b[0m                         Traceback (most recent call last)",
      "\u001b[1;32m/home/camila/Documents/SIA/SIA-20221Q/TP3/final_2.ipynb Cell 4'\u001b[0m in \u001b[0;36m<cell line: 3>\u001b[0;34m()\u001b[0m\n\u001b[1;32m      <a href='vscode-notebook-cell:/home/camila/Documents/SIA/SIA-20221Q/TP3/final_2.ipynb#ch0000003?line=4'>5</a>\u001b[0m errors \u001b[39m=\u001b[39m []\n\u001b[1;32m      <a href='vscode-notebook-cell:/home/camila/Documents/SIA/SIA-20221Q/TP3/final_2.ipynb#ch0000003?line=5'>6</a>\u001b[0m \u001b[39mfor\u001b[39;00m i \u001b[39min\u001b[39;00m \u001b[39mrange\u001b[39m(execution_count):\n\u001b[0;32m----> <a href='vscode-notebook-cell:/home/camila/Documents/SIA/SIA-20221Q/TP3/final_2.ipynb#ch0000003?line=6'>7</a>\u001b[0m     w, e \u001b[39m=\u001b[39m p\u001b[39m.\u001b[39;49mtrain(training, expected, epoch_limit, callback\u001b[39m=\u001b[39;49m\u001b[39mNone\u001b[39;49;00m)\n\u001b[1;32m      <a href='vscode-notebook-cell:/home/camila/Documents/SIA/SIA-20221Q/TP3/final_2.ipynb#ch0000003?line=7'>8</a>\u001b[0m     errors\u001b[39m.\u001b[39mappend(e)\n\u001b[1;32m      <a href='vscode-notebook-cell:/home/camila/Documents/SIA/SIA-20221Q/TP3/final_2.ipynb#ch0000003?line=8'>9</a>\u001b[0m f \u001b[39m=\u001b[39m \u001b[39mopen\u001b[39m(path_to_data\u001b[39m+\u001b[39m\u001b[39m\"\u001b[39m\u001b[39m/learning_rates.txt\u001b[39m\u001b[39m\"\u001b[39m, \u001b[39m\"\u001b[39m\u001b[39ma\u001b[39m\u001b[39m\"\u001b[39m)\n",
      "File \u001b[0;32m~/Documents/SIA/SIA-20221Q/TP3/perceptrons/multilayer_perceptron.py:97\u001b[0m, in \u001b[0;36mMultiLayerPerceptron.train\u001b[0;34m(self, training_set, expected_output, epoch_limit, callback)\u001b[0m\n\u001b[1;32m     <a href='file:///home/camila/Documents/SIA/SIA-20221Q/TP3/perceptrons/multilayer_perceptron.py?line=94'>95</a>\u001b[0m np\u001b[39m.\u001b[39mrandom\u001b[39m.\u001b[39mshuffle(indexes)\n\u001b[1;32m     <a href='file:///home/camila/Documents/SIA/SIA-20221Q/TP3/perceptrons/multilayer_perceptron.py?line=95'>96</a>\u001b[0m \u001b[39mfor\u001b[39;00m idx \u001b[39min\u001b[39;00m indexes:\n\u001b[0;32m---> <a href='file:///home/camila/Documents/SIA/SIA-20221Q/TP3/perceptrons/multilayer_perceptron.py?line=96'>97</a>\u001b[0m     \u001b[39mself\u001b[39;49m\u001b[39m.\u001b[39;49mforward_propagation(training_set[idx])\n\u001b[1;32m     <a href='file:///home/camila/Documents/SIA/SIA-20221Q/TP3/perceptrons/multilayer_perceptron.py?line=97'>98</a>\u001b[0m     \u001b[39mif\u001b[39;00m \u001b[39mself\u001b[39m\u001b[39m.\u001b[39mupdate_frequency \u001b[39m==\u001b[39m \u001b[39m0\u001b[39m:\n\u001b[1;32m     <a href='file:///home/camila/Documents/SIA/SIA-20221Q/TP3/perceptrons/multilayer_perceptron.py?line=98'>99</a>\u001b[0m         \u001b[39mself\u001b[39m\u001b[39m.\u001b[39mweights_diff \u001b[39m=\u001b[39m \u001b[39mself\u001b[39m\u001b[39m.\u001b[39mback_propagation(expected_output[idx])\n",
      "File \u001b[0;32m~/Documents/SIA/SIA-20221Q/TP3/perceptrons/multilayer_perceptron.py:40\u001b[0m, in \u001b[0;36mMultiLayerPerceptron.forward_propagation\u001b[0;34m(self, input)\u001b[0m\n\u001b[1;32m     <a href='file:///home/camila/Documents/SIA/SIA-20221Q/TP3/perceptrons/multilayer_perceptron.py?line=37'>38</a>\u001b[0m     \u001b[39mreturn\u001b[39;00m\n\u001b[1;32m     <a href='file:///home/camila/Documents/SIA/SIA-20221Q/TP3/perceptrons/multilayer_perceptron.py?line=38'>39</a>\u001b[0m \u001b[39mself\u001b[39m\u001b[39m.\u001b[39mhidden_outputs \u001b[39m=\u001b[39m {}\n\u001b[0;32m---> <a href='file:///home/camila/Documents/SIA/SIA-20221Q/TP3/perceptrons/multilayer_perceptron.py?line=39'>40</a>\u001b[0m \u001b[39mself\u001b[39m\u001b[39m.\u001b[39minput \u001b[39m=\u001b[39m np\u001b[39m.\u001b[39;49minsert(\u001b[39minput\u001b[39;49m, \u001b[39m0\u001b[39;49m, \u001b[39m1\u001b[39;49m)\n\u001b[1;32m     <a href='file:///home/camila/Documents/SIA/SIA-20221Q/TP3/perceptrons/multilayer_perceptron.py?line=40'>41</a>\u001b[0m \u001b[39mself\u001b[39m\u001b[39m.\u001b[39mhidden_outputs[\u001b[39m0\u001b[39m] \u001b[39m=\u001b[39m \u001b[39mself\u001b[39m\u001b[39m.\u001b[39minput\n\u001b[1;32m     <a href='file:///home/camila/Documents/SIA/SIA-20221Q/TP3/perceptrons/multilayer_perceptron.py?line=41'>42</a>\u001b[0m \u001b[39mself\u001b[39m\u001b[39m.\u001b[39moutput \u001b[39m=\u001b[39m []\n",
      "File \u001b[0;32m<__array_function__ internals>:180\u001b[0m, in \u001b[0;36minsert\u001b[0;34m(*args, **kwargs)\u001b[0m\n",
      "File \u001b[0;32m~/.local/lib/python3.8/site-packages/numpy/lib/function_base.py:5241\u001b[0m, in \u001b[0;36minsert\u001b[0;34m(arr, obj, values, axis)\u001b[0m\n\u001b[1;32m   <a href='file:///home/camila/.local/lib/python3.8/site-packages/numpy/lib/function_base.py?line=5238'>5239</a>\u001b[0m arr \u001b[39m=\u001b[39m asarray(arr)\n\u001b[1;32m   <a href='file:///home/camila/.local/lib/python3.8/site-packages/numpy/lib/function_base.py?line=5239'>5240</a>\u001b[0m ndim \u001b[39m=\u001b[39m arr\u001b[39m.\u001b[39mndim\n\u001b[0;32m-> <a href='file:///home/camila/.local/lib/python3.8/site-packages/numpy/lib/function_base.py?line=5240'>5241</a>\u001b[0m arrorder \u001b[39m=\u001b[39m \u001b[39m'\u001b[39m\u001b[39mF\u001b[39m\u001b[39m'\u001b[39m \u001b[39mif\u001b[39;00m arr\u001b[39m.\u001b[39;49mflags\u001b[39m.\u001b[39mfnc \u001b[39melse\u001b[39;00m \u001b[39m'\u001b[39m\u001b[39mC\u001b[39m\u001b[39m'\u001b[39m\n\u001b[1;32m   <a href='file:///home/camila/.local/lib/python3.8/site-packages/numpy/lib/function_base.py?line=5241'>5242</a>\u001b[0m \u001b[39mif\u001b[39;00m axis \u001b[39mis\u001b[39;00m \u001b[39mNone\u001b[39;00m:\n\u001b[1;32m   <a href='file:///home/camila/.local/lib/python3.8/site-packages/numpy/lib/function_base.py?line=5242'>5243</a>\u001b[0m     \u001b[39mif\u001b[39;00m ndim \u001b[39m!=\u001b[39m \u001b[39m1\u001b[39m:\n",
      "\u001b[0;31mKeyboardInterrupt\u001b[0m: "
     ]
    }
   ],
   "source": [
    "step = 0.01\n",
    "training, expected = fu.parse_training_set_from_file(path_to_data)\n",
    "for val in range(1, 60):  \n",
    "    p = mlp.MultiLayerPerceptron(learning_rate=val*step, hidden_layers=[], input_dim=len(training[0]), output_dim=len(expected[0]), update_frequency=0, activation_function=activation_function, activation_function_derivative=activation_derivative, update_learn_rate=update_learn_rate, scale_output=True,momentum=momentum)\n",
    "    errors = []\n",
    "    for i in range(execution_count):\n",
    "        w, e = p.train(training, expected, epoch_limit, callback=None)\n",
    "        errors.append(e)\n",
    "    f = open(path_to_data+\"/learning_rates.txt\", \"a\")\n",
    "    f.write(\"{},{},{}\\n\".format(val*step, np.mean(errors), np.std(errors)))\n",
    "    f.close()"
   ]
  },
  {
   "cell_type": "code",
   "execution_count": 9,
   "metadata": {},
   "outputs": [
    {
     "data": {
      "text/plain": [
       "<ErrorbarContainer object of 3 artists>"
      ]
     },
     "execution_count": 9,
     "metadata": {},
     "output_type": "execute_result"
    },
    {
     "data": {
      "image/png": "[encoded data removed]",
      "text/plain": [
       "<Figure size 432x288 with 1 Axes>"
      ]
     },
     "metadata": {
      "needs_background": "light"
     },
     "output_type": "display_data"
    }
   ],
   "source": [
    "f = open(learning_rates_paths, \"r\")\n",
    "lines = f.readlines()\n",
    "learning_rates = []\n",
    "mean_errors = []\n",
    "std_errors =[]\n",
    "for line in lines:\n",
    "    lr, mean, std = line.strip().split(\",\")\n",
    "    learning_rates.append(float(lr))\n",
    "    mean_errors.append(float(mean))\n",
    "    std_errors.append(float(std))\n",
    "f.close()\n",
    "plt.scatter(learning_rates, mean_errors)\n",
    "plt.xlabel(\"Learning Rate\")\n",
    "plt.ylabel(\"Mean Error\")\n",
    "plt.errorbar(learning_rates, mean_errors, yerr=std_errors, ecolor = 'grey', elinewidth = 0.5, capsize=1.5, fmt=\"o\")\n"
   ]
  },
  {
   "cell_type": "code",
   "execution_count": null,
   "metadata": {},
   "outputs": [],
   "source": [
    "    training_groups, expected_groups = m.cross_validation(training,cross_validation_k,expected)\n",
    "    err_mins = []\n",
    "    rmsd_mins = []\n",
    "    for i in range(execution_count):\n",
    "        err_min = None\n",
    "        rmsd_min = None\n",
    "        for i, test_group in enumerate(training_groups):\n",
    "            errors =[]\n",
    "            t = training_groups[:i] + training_groups[i+1:]\n",
    "            training_set = [item for sublist in t for item in sublist]\n",
    "            e = expected_groups[:i] + expected_groups[i+1:]\n",
    "            expected_set = [item for sublist in e for item in sublist]\n",
    "            print(len(training_set))\n",
    "            print(len(training_set[0]))\n",
    "            w, err = p.train(training_set, expected_set, epoch_limit, callback=None)\n",
    "        \n",
    "            # Test\n",
    "            for j, test_entry in enumerate(test_group):\n",
    "                prediction = p.forward_propagation(test_entry)\n",
    "                expected_output = expected_groups[i][j]\n",
    "                errors.append(np.abs(np.subtract(prediction , expected_output)))\n",
    "\n",
    "            # mean_error = m.mean_error(errors)\n",
    "            max_error = m.max_error(errors)\n",
    "            # min_error = m.min_error(errors)\n",
    "            # mse_error = m.mse(errors)\n",
    "            rmsd_error = m.rmsd(errors)\n",
    "            if err_min == None or err < err_min:\n",
    "                err_min = err\n",
    "            if rmsd_min == None or rmsd_error < rmsd_min:\n",
    "                rmsd_min = rmsd_error\n",
    "        err_mins.append(err_min)\n",
    "        rmsd_mins.append(rmsd_min)"
   ]
  },
  {
   "cell_type": "code",
   "execution_count": 7,
   "metadata": {},
   "outputs": [
    {
     "data": {
      "text/plain": [
       "<matplotlib.legend.Legend at 0x7fc4bbc817f0>"
      ]
     },
     "execution_count": 7,
     "metadata": {},
     "output_type": "execute_result"
    },
    {
     "data": {
      "image/png": "[encoded data removed]",
      "text/plain": [
       "<Figure size 432x288 with 1 Axes>"
      ]
     },
     "metadata": {
      "needs_background": "light"
     },
     "output_type": "display_data"
    }
   ],
   "source": [
    "\n",
    "f = open(k_paths, \"r\")\n",
    "lines = f.readlines()\n",
    "training_percentages = []\n",
    "mean_errors = []\n",
    "std_errors =[]\n",
    "mean_rmsd =[]\n",
    "std_rmsd =[]\n",
    "for line in lines:\n",
    "    k, e_mean, e_std, rmsd_mean, rmsd_std  = line.strip().split(\",\")\n",
    "    training_percentages.append(((int(k)-1)/int(k))*100)\n",
    "    mean_errors.append(float(mean))\n",
    "    std_errors.append(float(std))\n",
    "    mean_rmsd.append(float(rmsd_mean))\n",
    "    std_rmsd.append(float(rmsd_std))\n",
    "f.close()\n",
    "plt.scatter(training_percentages, mean_errors, label=\"Training Error\")\n",
    "plt.scatter(training_percentages, mean_rmsd, label=\"Testing Error\")\n",
    "plt.xlabel(\"Training set (%)\")\n",
    "plt.ylabel(\"Error\")\n",
    "plt.errorbar(training_percentages, mean_errors, yerr=std_errors, ecolor = 'grey', elinewidth = 0.5, capsize=1.5, fmt=\"o\")\n",
    "plt.errorbar(training_percentages, mean_rmsd, yerr=std_rmsd, ecolor = 'grey', elinewidth = 0.5, capsize=1.5, fmt=\"o\")\n",
    "plt.legend()"
   ]
  }
 ],
 "metadata": {
  "interpreter": {
   "hash": "916dbcbb3f70747c44a77c7bcd40155683ae19c65e1c03b4aa3499c5328201f1"
  },
  "kernelspec": {
   "display_name": "Python 3.8.10 64-bit",
   "language": "python",
   "name": "python3"
  },
  "language_info": {
   "codemirror_mode": {
    "name": "ipython",
    "version": 3
   },
   "file_extension": ".py",
   "mimetype": "text/x-python",
   "name": "python",
   "nbconvert_exporter": "python",
   "pygments_lexer": "ipython3",
   "version": "3.8.10"
  },
  "orig_nbformat": 4
 },
 "nbformat": 4,
 "nbformat_minor": 2
}

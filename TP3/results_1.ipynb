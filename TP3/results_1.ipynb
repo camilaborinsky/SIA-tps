{
 "cells": [
  {
   "cell_type": "markdown",
   "metadata": {},
   "source": [
    "# Ejercicio 1"
   ]
  },
  {
   "cell_type": "code",
   "execution_count": 1,
   "metadata": {},
   "outputs": [],
   "source": [
    "import ex_1.main as main\n",
    "from perceptrons.multilayer_perceptron import MultiLayerPerceptron\n",
    "from perceptrons.simple_step_perceptron import SimpleStepPerceptron\n",
    "import numpy as np\n",
    "import matplotlib.pyplot as plt"
   ]
  },
  {
   "cell_type": "markdown",
   "metadata": {},
   "source": [
    "Declare paths"
   ]
  },
  {
   "cell_type": "code",
   "execution_count": 2,
   "metadata": {},
   "outputs": [],
   "source": [
    "config_file_path = \"ex_1/resources/config.json\"\n",
    "results_file_path = \"ex_1/resources/perceptron_data.txt\""
   ]
  },
  {
   "cell_type": "code",
   "execution_count": 3,
   "metadata": {},
   "outputs": [],
   "source": [
    "learning_rates_results = \"ex_1/resources/learning_rates.txt\""
   ]
  },
  {
   "cell_type": "markdown",
   "metadata": {},
   "source": [
    "Clear perceptron data file"
   ]
  },
  {
   "cell_type": "code",
   "execution_count": 4,
   "metadata": {},
   "outputs": [],
   "source": [
    "open(results_file_path, \"w\").close()"
   ]
  },
  {
   "cell_type": "code",
   "execution_count": 5,
   "metadata": {},
   "outputs": [
    {
     "name": "stdout",
     "output_type": "stream",
     "text": [
      "False\n",
      "W min[0.6 1.8 1.8]\n"
     ]
    },
    {
     "data": {
      "image/png": "[encoded data removed]",
      "text/plain": [
       "<Figure size 720x576 with 1 Axes>"
      ]
     },
     "metadata": {
      "needs_background": "light"
     },
     "output_type": "display_data"
    }
   ],
   "source": [
    "training_set, expected_output, learn_rate, epoch_limit, execution_count, random_weights = main.parse_config(config_file_path)\n",
    "p = SimpleStepPerceptron(expected_output, training_set, learn_rate)\n",
    "w_min, error_min, i = p.learn(epoch_limit*len(training_set), lambda i, error, weights: open(results_file_path, \"a\").write(\"{}\\t{}\\t{}\\n\".format(i, error, weights)), random_weights=random_weights)\n",
    "main.plot_decision_boundary(training_set, w_min, expected_output)"
   ]
  },
  {
   "cell_type": "code",
   "execution_count": 6,
   "metadata": {},
   "outputs": [
    {
     "data": {
      "text/plain": [
       "Text(0, 0.5, 'Error')"
      ]
     },
     "execution_count": 6,
     "metadata": {},
     "output_type": "execute_result"
    },
    {
     "data": {
      "image/png": "[encoded data removed]",
      "text/plain": [
       "<Figure size 432x288 with 1 Axes>"
      ]
     },
     "metadata": {
      "needs_background": "light"
     },
     "output_type": "display_data"
    }
   ],
   "source": [
    "iterations, errors = main.iteration_vs_error(results_file_path)\n",
    "plt.plot(iterations, errors)\n",
    "plt.xlabel(\"Iterations\")\n",
    "plt.ylabel(\"Error\")"
   ]
  },
  {
   "cell_type": "markdown",
   "metadata": {},
   "source": [
    "Genero el output para después promediarlo"
   ]
  },
  {
   "cell_type": "code",
   "execution_count": 7,
   "metadata": {},
   "outputs": [],
   "source": [
    "multiple_results_path = f\"ex_1/resources/multiple_results_{learn_rate}.txt\"\n",
    "open(multiple_results_path, \"w\").close()"
   ]
  },
  {
   "cell_type": "code",
   "execution_count": 8,
   "metadata": {},
   "outputs": [
    {
     "name": "stdout",
     "output_type": "stream",
     "text": [
      "False\n",
      "W min[0.6 1.8 1.8]\n",
      "False\n",
      "W min[0.6 1.8 1.8]\n",
      "False\n",
      "W min[1.8 0.6 1.8]\n",
      "False\n",
      "W min[0.6 1.8 1.8]\n",
      "False\n",
      "W min[1.8 0.6 1.8]\n",
      "False\n",
      "W min[0.6 0.6 0.6]\n",
      "False\n",
      "W min[0.6 1.8 1.8]\n",
      "False\n",
      "W min[0.6 1.8 1.8]\n",
      "False\n",
      "W min[0.6 0.6 0.6]\n",
      "False\n",
      "W min[1.8 0.6 1.8]\n",
      "False\n",
      "W min[1.8 1.8 0.6]\n",
      "False\n",
      "W min[0.6 0.6 0.6]\n",
      "False\n",
      "W min[0.6 1.8 1.8]\n",
      "False\n",
      "W min[1.8 0.6 1.8]\n",
      "False\n",
      "W min[0.6 1.8 1.8]\n",
      "False\n",
      "W min[0.6 1.8 1.8]\n",
      "False\n",
      "W min[0.6 0.6 0.6]\n",
      "False\n",
      "W min[0.6 1.8 1.8]\n",
      "False\n",
      "W min[0.6 1.8 1.8]\n",
      "False\n",
      "W min[0.6 0.6 0.6]\n"
     ]
    }
   ],
   "source": [
    "p = SimpleStepPerceptron(expected_output, training_set, learn_rate)\n",
    "\n",
    "for i in range(execution_count):\n",
    "    w_min, e_min, i = p.learn(epoch_limit*len(training_set), lambda i, error, weights: open(results_file_path, \"a\").write(\"{},{}\\n\".format(i, error)), random_weights=random_weights)\n",
    "    open(multiple_results_path, \"a\").write(\"{},{}\\n\".format(i, e_min))"
   ]
  },
  {
   "cell_type": "code",
   "execution_count": 9,
   "metadata": {},
   "outputs": [
    {
     "data": {
      "text/plain": [
       "35"
      ]
     },
     "execution_count": 9,
     "metadata": {},
     "output_type": "execute_result"
    }
   ],
   "source": [
    "i_avg, i_std, e_avg, e_std = main.parse_results_for_rate(multiple_results_path)\n",
    "open(learning_rates_results, \"a\").write(\"{},{},{},{},{}\\n\".format(learn_rate, i_avg, i_std, e_avg, e_std))"
   ]
  }
 ],
 "metadata": {
  "kernelspec": {
   "display_name": "Python 3 (ipykernel)",
   "language": "python",
   "name": "python3"
  },
  "language_info": {
   "codemirror_mode": {
    "name": "ipython",
    "version": 3
   },
   "file_extension": ".py",
   "mimetype": "text/x-python",
   "name": "python",
   "nbconvert_exporter": "python",
   "pygments_lexer": "ipython3",
   "version": "3.8.10"
  }
 },
 "nbformat": 4,
 "nbformat_minor": 4
}

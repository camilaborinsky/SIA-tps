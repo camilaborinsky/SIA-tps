{
 "cells": [
  {
   "cell_type": "markdown",
   "metadata": {},
   "source": [
    "Parseamos y estandarizamos los datos de los países de europa"
   ]
  },
  {
   "cell_type": "code",
   "execution_count": 1,
   "metadata": {},
   "outputs": [],
   "source": [
    "from utils.file_utils import parse_countries_data, standarize_data\n",
    "attributes, countries, dataset = parse_countries_data(\"ex_1/resources/europe.csv\")\n",
    "std = standarize_data(dataset)"
   ]
  },
  {
   "cell_type": "code",
   "execution_count": 2,
   "metadata": {},
   "outputs": [
    {
     "name": "stdout",
     "output_type": "stream",
     "text": [
      "[[['Switzerland'], ['Bulgaria', 'Latvia', 'Estonia'], ['Ukraine']], [['Luxembourg'], ['Iceland', 'Denmark', 'Netherlands', 'Austria', 'Ireland', 'Belgium'], ['Slovakia', 'Czech Republic', 'Croatia', 'Portugal', 'Poland', 'Hungary', 'Lithuania', 'Slovenia']], [['Spain'], ['Norway', 'Sweden', 'Germany', 'United Kingdom', 'Finland', 'Italy'], ['Greece']]]\n"
     ]
    }
   ],
   "source": [
    "import networks.kohonen as kohonen\n",
    "import numpy as np\n",
    "output_dimension = int(np.floor(np.sqrt(std.shape[0]*0.5)))\n",
    "kohonen_network = kohonen.KohonenNetwork(std.shape[1], output_dimension, 1)\n",
    "e, groups = kohonen_network.train(std, countries, 1000)\n",
    "print(groups)"
   ]
  },
  {
   "cell_type": "code",
   "execution_count": 3,
   "metadata": {},
   "outputs": [
    {
     "name": "stdout",
     "output_type": "stream",
     "text": [
      "[['Switzerland', 'Bulgaria,Latvia,Estonia', 'Ukraine'], ['Luxembourg', 'Iceland,Denmark,Netherlands,Austria,Ireland,Belgium', 'Slovakia,Czech Republic,Croatia,Portugal,Poland,Hungary,Lithuania,Slovenia'], ['Spain', 'Norway,Sweden,Germany,United Kingdom,Finland,Italy', 'Greece']]\n"
     ]
    },
    {
     "data": {
      "text/plain": [
       "<AxesSubplot:>"
      ]
     },
     "execution_count": 3,
     "metadata": {},
     "output_type": "execute_result"
    },
    {
     "data": {
      "image/png": "[encoded data removed]",
      "text/plain": [
       "<Figure size 432x288 with 2 Axes>"
      ]
     },
     "metadata": {
      "needs_background": "light"
     },
     "output_type": "display_data"
    }
   ],
   "source": [
    "import seaborn as sns\n",
    "heatmap_data = np.zeros((output_dimension, output_dimension))\n",
    "heatmap_annot = []\n",
    "for i in range(output_dimension):\n",
    "    row = []\n",
    "    for j in range(output_dimension):\n",
    "        heatmap_data[i][j] = len(groups[i][j])\n",
    "        row.append( ','.join(groups[i][j]))\n",
    "    heatmap_annot.append(row)\n",
    "print(heatmap_annot)\n",
    "sns.heatmap(heatmap_data, annot=True)"
   ]
  }
 ],
 "metadata": {
  "interpreter": {
   "hash": "916dbcbb3f70747c44a77c7bcd40155683ae19c65e1c03b4aa3499c5328201f1"
  },
  "kernelspec": {
   "display_name": "Python 3.8.10 64-bit",
   "language": "python",
   "name": "python3"
  },
  "language_info": {
   "codemirror_mode": {
    "name": "ipython",
    "version": 3
   },
   "file_extension": ".py",
   "mimetype": "text/x-python",
   "name": "python",
   "nbconvert_exporter": "python",
   "pygments_lexer": "ipython3",
   "version": "3.8.10"
  },
  "orig_nbformat": 4
 },
 "nbformat": 4,
 "nbformat_minor": 2
}

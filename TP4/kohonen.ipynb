{
 "cells": [
  {
   "cell_type": "markdown",
   "metadata": {},
   "source": [
    "Parseamos y estandarizamos los datos de los países de europa"
   ]
  },
  {
   "cell_type": "code",
   "execution_count": null,
   "metadata": {},
   "outputs": [],
   "source": [
    "from utils.file_utils import parse_countries_data, standarize_data\n",
    "import matplotlib.pyplot as plt\n",
    "attributes, countries, dataset = parse_countries_data(\"ex_1/resources/europe.csv\")\n",
    "std = standarize_data(dataset)\n",
    "\n",
    "import numpy as np"
   ]
  },
  {
   "cell_type": "markdown",
   "metadata": {},
   "source": [
    "Parameters"
   ]
  },
  {
   "cell_type": "code",
   "execution_count": null,
   "metadata": {},
   "outputs": [],
   "source": [
    "# grilla de salida es de dimensión output_dimension*output_dimension\n",
    "output_dimension = int(np.floor(np.sqrt(std.shape[0]*0.5)))\n",
    "\n",
    "#nro de epocas\n",
    "epoch_limit = 1000\n",
    "\n",
    "# tasa de aprendizaje inicial\n",
    "initial_learning_rate = 1\n",
    "\n",
    "# radio inicial\n",
    "initial_radius = np.ceil(output_dimension*output_dimension/2)\n",
    "\n",
    "# función de actualización de tasa de aprendizaje\n",
    "update_learning_rate = (lambda e, k: initial_learning_rate*np.exp(-2*k/((epochs)*std.shape[0])))\n",
    "\n",
    "#función de actualización de radio\n",
    "update_radius = (lambda e, k: initial_radius*np.exp(-5*k/((epochs)*std.shape[0])))"
   ]
  },
  {
   "cell_type": "code",
   "execution_count": null,
   "metadata": {},
   "outputs": [],
   "source": [
    "import networks.kohonen as kohonen\n",
    "import numpy as np\n",
    "kohonen_network = kohonen.KohonenNetwork(std.shape[1], output_dimension, 1)\n",
    "epochs =[]\n",
    "errors = []\n",
    "def callback_fun(e, error):\n",
    "    errors.append(error)\n",
    "    epochs.append(e)\n",
    "kohonen_network.train(std, countries, epoch_limit, callback_fun )\n"
   ]
  },
  {
   "cell_type": "code",
   "execution_count": null,
   "metadata": {},
   "outputs": [],
   "source": [
    "# plot error vs epochs\n",
    "plt.plot(epochs, errors)"
   ]
  },
  {
   "cell_type": "code",
   "execution_count": null,
   "metadata": {},
   "outputs": [],
   "source": [
    "\n",
    "# plot radius values through iterations\n",
    "plt.plot(range(len(kohonen_network.radius_values)), kohonen_network.radius_values)\n",
    "plt.xlabel(\"Iteration\")\n",
    "plt.ylabel(\"Radius\")"
   ]
  },
  {
   "cell_type": "code",
   "execution_count": null,
   "metadata": {},
   "outputs": [],
   "source": [
    "#plot learning rate values through iterations\n",
    "# print(kohonen_network.learning_rate_values)\n",
    "plt.plot(range(len(kohonen_network.learning_rate_values)), kohonen_network.learning_rate_values)\n",
    "plt.xlabel(\"Iteration\")\n",
    "plt.ylabel(\"Learning Rate\")"
   ]
  },
  {
   "cell_type": "code",
   "execution_count": null,
   "metadata": {},
   "outputs": [],
   "source": [
    "distances = np.zeros((output_dimension, output_dimension))\n",
    "heatmap_data = np.zeros((output_dimension, output_dimension))\n",
    "country_names = [['' for i in range(output_dimension)] for j in range(output_dimension)]\n",
    "isolated_variables = np.zeros((len(std[0]),output_dimension, output_dimension))\n",
    "for c,_input in enumerate(std):\n",
    "    i, j, d = kohonen_network.get_activated_neuron(_input)\n",
    "    distances[i][j] += d\n",
    "    heatmap_data[i][j] += 1\n",
    "    country_names[i][j]+=countries[c]\n",
    "    for l in range(len(_input)):\n",
    "        isolated_variables[l][i][j] += std[c][l]\n",
    "\n",
    "quantization_error = np.sum(distances)/len(std)\n",
    "\n",
    "for i in range(output_dimension):\n",
    "    for j in range(output_dimension):\n",
    "        distances[i][j] /= heatmap_data[i][j]\n",
    "        for l in range(len(_input)):\n",
    "            isolated_variables[l][i][j] /= heatmap_data[i][j]\n",
    "\n",
    "print(quantization_error)\n"
   ]
  },
  {
   "cell_type": "code",
   "execution_count": null,
   "metadata": {},
   "outputs": [],
   "source": [
    "import seaborn as sns\n",
    "\n",
    "sns.heatmap(heatmap_data, annot=True)\n"
   ]
  },
  {
   "cell_type": "code",
   "execution_count": null,
   "metadata": {},
   "outputs": [],
   "source": [
    "sns.heatmap(kohonen_network.u_matrix(), annot=True, cmap=\"Greys\")"
   ]
  },
  {
   "cell_type": "markdown",
   "metadata": {},
   "source": [
    "Plot isolated variables"
   ]
  },
  {
   "cell_type": "code",
   "execution_count": null,
   "metadata": {},
   "outputs": [],
   "source": [
    "fig, ax = plt.subplots(len(std[0]),1, figsize=(8,40))\n",
    "for i, var in enumerate(isolated_variables):\n",
    "    ax[i].set_title(attributes[i])\n",
    "    sns.heatmap(var, annot=True, ax=ax[i])\n",
    "fig.tight_layout(pad=3.0)"
   ]
  }
 ],
 "metadata": {
  "interpreter": {
   "hash": "916dbcbb3f70747c44a77c7bcd40155683ae19c65e1c03b4aa3499c5328201f1"
  },
  "kernelspec": {
   "display_name": "Python 3.8.10 64-bit",
   "language": "python",
   "name": "python3"
  },
  "language_info": {
   "codemirror_mode": {
    "name": "ipython",
    "version": 3
   },
   "file_extension": ".py",
   "mimetype": "text/x-python",
   "name": "python",
   "nbconvert_exporter": "python",
   "pygments_lexer": "ipython3",
   "version": "3.8.10"
  },
  "orig_nbformat": 4
 },
 "nbformat": 4,
 "nbformat_minor": 2
}

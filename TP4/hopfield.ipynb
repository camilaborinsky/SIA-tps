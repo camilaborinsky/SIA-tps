{
 "cells": [
  {
   "cell_type": "code",
   "execution_count": null,
   "metadata": {},
   "outputs": [],
   "source": []
  },
  {
   "cell_type": "code",
   "execution_count": null,
   "metadata": {},
   "outputs": [],
   "source": [
    "from networks.hopfield import HopfieldNetwork\n",
    "iterations = 1000\n",
    "#4 letras para almacenar\n",
    "stored_inputs = \n",
    "hopfield = HopfieldNetwork(stored_inputs)\n",
    "#letra cualquiera \n",
    "input_value = \n",
    "\n",
    "final_state, success = hopfield.train(input_value, iterations)\n",
    "\n",
    "#imprimir letra final state print_with asterisks\n",
    "\n",
    "if success is not None:\n",
    "    print(\"Found pattern \")\n",
    "else:\n",
    "    print(\"No pattern found\")"
   ]
  }
 ],
 "metadata": {
  "language_info": {
   "name": "python"
  },
  "orig_nbformat": 4
 },
 "nbformat": 4,
 "nbformat_minor": 2
}

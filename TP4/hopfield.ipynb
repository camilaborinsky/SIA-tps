{
 "cells": [
  {
   "cell_type": "code",
   "execution_count": null,
   "metadata": {},
   "outputs": [],
   "source": []
  },
  {
   "cell_type": "code",
   "execution_count": 3,
   "metadata": {},
   "outputs": [
    {
     "name": "stdout",
     "output_type": "stream",
     "text": [
      "Patterns: ('G', 'I', 'M', 'X'), Avg_dot: 5.0\n"
     ]
    },
    {
     "ename": "KeyboardInterrupt",
     "evalue": "",
     "output_type": "error",
     "traceback": [
      "\u001b[0;31m---------------------------------------------------------------------------\u001b[0m",
      "\u001b[0;31mKeyboardInterrupt\u001b[0m                         Traceback (most recent call last)",
      "\u001b[1;32m/home/camila/Documents/SIA/SIA-20221Q/TP4/hopfield.ipynb Cell 2'\u001b[0m in \u001b[0;36m<cell line: 13>\u001b[0;34m()\u001b[0m\n\u001b[1;32m      <a href='vscode-notebook-cell:/home/camila/Documents/SIA/SIA-20221Q/TP4/hopfield.ipynb#ch0000001?line=8'>9</a>\u001b[0m input_value \u001b[39m=\u001b[39m get_patterns(\u001b[39m'\u001b[39m\u001b[39mR\u001b[39m\u001b[39m'\u001b[39m)[\u001b[39m0\u001b[39m]\n\u001b[1;32m     <a href='vscode-notebook-cell:/home/camila/Documents/SIA/SIA-20221Q/TP4/hopfield.ipynb#ch0000001?line=9'>10</a>\u001b[0m \u001b[39m#para imprimir un patron (-1, 1,...) con asteriscos\u001b[39;00m\n\u001b[1;32m     <a href='vscode-notebook-cell:/home/camila/Documents/SIA/SIA-20221Q/TP4/hopfield.ipynb#ch0000001?line=10'>11</a>\u001b[0m \u001b[39m# print_patterns_with_asterisks([input_value]) \u001b[39;00m\n\u001b[0;32m---> <a href='vscode-notebook-cell:/home/camila/Documents/SIA/SIA-20221Q/TP4/hopfield.ipynb#ch0000001?line=12'>13</a>\u001b[0m final_state, success \u001b[39m=\u001b[39m hopfield\u001b[39m.\u001b[39;49mtrain(input_value, iterations)\n\u001b[1;32m     <a href='vscode-notebook-cell:/home/camila/Documents/SIA/SIA-20221Q/TP4/hopfield.ipynb#ch0000001?line=14'>15</a>\u001b[0m \u001b[39m#imprimir letra final state print_with asterisks\u001b[39;00m\n\u001b[1;32m     <a href='vscode-notebook-cell:/home/camila/Documents/SIA/SIA-20221Q/TP4/hopfield.ipynb#ch0000001?line=15'>16</a>\u001b[0m print_patterns_with_asterisks([final_state]) \n",
      "File \u001b[0;32m~/Documents/SIA/SIA-20221Q/TP4/networks/hopfield.py:40\u001b[0m, in \u001b[0;36mHopfield.train\u001b[0;34m(self, input_value, iterations)\u001b[0m\n\u001b[1;32m     <a href='file:///home/camila/Documents/SIA/SIA-20221Q/TP4/networks/hopfield.py?line=37'>38</a>\u001b[0m \u001b[39mwhile\u001b[39;00m  \u001b[39mnot\u001b[39;00m np\u001b[39m.\u001b[39marray_equal(current_state, previous_state):\n\u001b[1;32m     <a href='file:///home/camila/Documents/SIA/SIA-20221Q/TP4/networks/hopfield.py?line=38'>39</a>\u001b[0m     previous_state \u001b[39m=\u001b[39m current_state\u001b[39m.\u001b[39mcopy()\n\u001b[0;32m---> <a href='file:///home/camila/Documents/SIA/SIA-20221Q/TP4/networks/hopfield.py?line=39'>40</a>\u001b[0m     energy_values\u001b[39m.\u001b[39mappend(\u001b[39mself\u001b[39;49m\u001b[39m.\u001b[39;49mcalculate_energy(current_state))\n\u001b[1;32m     <a href='file:///home/camila/Documents/SIA/SIA-20221Q/TP4/networks/hopfield.py?line=40'>41</a>\u001b[0m     h \u001b[39m=\u001b[39m np\u001b[39m.\u001b[39mmatmul(current_state, \u001b[39mself\u001b[39m\u001b[39m.\u001b[39mweights)\n\u001b[1;32m     <a href='file:///home/camila/Documents/SIA/SIA-20221Q/TP4/networks/hopfield.py?line=41'>42</a>\u001b[0m     current_state \u001b[39m=\u001b[39m np\u001b[39m.\u001b[39msign(h)\n",
      "File \u001b[0;32m~/Documents/SIA/SIA-20221Q/TP4/networks/hopfield.py:57\u001b[0m, in \u001b[0;36mHopfield.calculate_energy\u001b[0;34m(self, state)\u001b[0m\n\u001b[1;32m     <a href='file:///home/camila/Documents/SIA/SIA-20221Q/TP4/networks/hopfield.py?line=54'>55</a>\u001b[0m \u001b[39mfor\u001b[39;00m i \u001b[39min\u001b[39;00m \u001b[39mrange\u001b[39m(\u001b[39mself\u001b[39m\u001b[39m.\u001b[39minput_dim):\n\u001b[1;32m     <a href='file:///home/camila/Documents/SIA/SIA-20221Q/TP4/networks/hopfield.py?line=55'>56</a>\u001b[0m     \u001b[39mfor\u001b[39;00m j \u001b[39min\u001b[39;00m \u001b[39mrange\u001b[39m(i, \u001b[39mself\u001b[39m\u001b[39m.\u001b[39minput_dim):\n\u001b[0;32m---> <a href='file:///home/camila/Documents/SIA/SIA-20221Q/TP4/networks/hopfield.py?line=56'>57</a>\u001b[0m         energy \u001b[39m+\u001b[39m\u001b[39m=\u001b[39m \u001b[39mself\u001b[39;49m\u001b[39m.\u001b[39;49mweights[i][j]\u001b[39m*\u001b[39mstate[i]\u001b[39m*\u001b[39mstate[j]\n\u001b[1;32m     <a href='file:///home/camila/Documents/SIA/SIA-20221Q/TP4/networks/hopfield.py?line=57'>58</a>\u001b[0m \u001b[39mreturn\u001b[39;00m \u001b[39m-\u001b[39menergy\n",
      "\u001b[0;31mKeyboardInterrupt\u001b[0m: "
     ]
    }
   ],
   "source": [
    "from networks.hopfield import Hopfield\n",
    "from ex_2.ortogonality import most_alike_patterns, most_different_patterns\n",
    "from ex_2.letters import get_patterns, print_patterns_with_asterisks\n",
    "iterations = 30000\n",
    "#4 letras para almacenar\n",
    "stored_inputs = most_different_patterns()\n",
    "hopfield = Hopfield(stored_inputs)\n",
    "#letra cualquiera, poner literal el ascii de la letra deseada\n",
    "input_value = get_patterns('R')[0]\n",
    "#para imprimir un patron (-1, 1,...) con asteriscos\n",
    "# print_patterns_with_asterisks([input_value]) \n",
    "\n",
    "final_state, success = hopfield.train(input_value, iterations)\n",
    "\n",
    "#imprimir letra final state print_with asterisks\n",
    "print_patterns_with_asterisks([final_state]) \n",
    "if success is not None:\n",
    "    print(\"Found pattern \")\n",
    "else:\n",
    "    print(\"No pattern found\")"
   ]
  }
 ],
 "metadata": {
  "interpreter": {
   "hash": "b0fa6594d8f4cbf19f97940f81e996739fb7646882a419484c72d19e05852a7e"
  },
  "kernelspec": {
   "display_name": "Python 3.9.13 64-bit",
   "language": "python",
   "name": "python3"
  },
  "language_info": {
   "codemirror_mode": {
    "name": "ipython",
    "version": 3
   },
   "file_extension": ".py",
   "mimetype": "text/x-python",
   "name": "python",
   "nbconvert_exporter": "python",
   "pygments_lexer": "ipython3",
   "version": "3.8.10"
  },
  "orig_nbformat": 4
 },
 "nbformat": 4,
 "nbformat_minor": 2
}

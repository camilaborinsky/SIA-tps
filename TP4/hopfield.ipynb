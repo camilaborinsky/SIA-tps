{
 "cells": [
  {
   "cell_type": "code",
   "execution_count": null,
   "metadata": {},
   "outputs": [],
   "source": []
  },
  {
   "cell_type": "code",
   "execution_count": 3,
   "metadata": {},
   "outputs": [
    {
     "name": "stdout",
     "output_type": "stream",
     "text": [
      "Patterns: ('G', 'I', 'M', 'X'), Avg_dot: 5.0\n",
      "input value is:[-1, 1, 1, 1, -1, -1, 1, -1, 1, -1, -1, 1, 1, 1, -1, -1, 1, -1, 1, -1, -1, 1, -1, 1, -1]\n"
     ]
    },
    {
     "ename": "UnboundLocalError",
     "evalue": "local variable 'previous_state' referenced before assignment",
     "output_type": "error",
     "traceback": [
      "\u001b[0;31m---------------------------------------------------------------------------\u001b[0m",
      "\u001b[0;31mUnboundLocalError\u001b[0m                         Traceback (most recent call last)",
      "\u001b[1;32m/Users/ana.cruz/Documents/ITBA/SIA/SIA-tps/TP4/hopfield.ipynb Cell 2'\u001b[0m in \u001b[0;36m<cell line: 12>\u001b[0;34m()\u001b[0m\n\u001b[1;32m      <a href='vscode-notebook-cell:/Users/ana.cruz/Documents/ITBA/SIA/SIA-tps/TP4/hopfield.ipynb#ch0000001?line=8'>9</a>\u001b[0m input_value \u001b[39m=\u001b[39m get_patterns(\u001b[39m'\u001b[39m\u001b[39mA\u001b[39m\u001b[39m'\u001b[39m)[\u001b[39m0\u001b[39m]\n\u001b[1;32m     <a href='vscode-notebook-cell:/Users/ana.cruz/Documents/ITBA/SIA/SIA-tps/TP4/hopfield.ipynb#ch0000001?line=9'>10</a>\u001b[0m \u001b[39mprint\u001b[39m(\u001b[39m\"\u001b[39m\u001b[39minput value is:\u001b[39m\u001b[39m\"\u001b[39m \u001b[39m+\u001b[39m \u001b[39mstr\u001b[39m(input_value))\n\u001b[0;32m---> <a href='vscode-notebook-cell:/Users/ana.cruz/Documents/ITBA/SIA/SIA-tps/TP4/hopfield.ipynb#ch0000001?line=11'>12</a>\u001b[0m final_state, success \u001b[39m=\u001b[39m hopfield\u001b[39m.\u001b[39;49mtrain(input_value, iterations)\n\u001b[1;32m     <a href='vscode-notebook-cell:/Users/ana.cruz/Documents/ITBA/SIA/SIA-tps/TP4/hopfield.ipynb#ch0000001?line=13'>14</a>\u001b[0m \u001b[39m#imprimir letra final state print_with asterisks\u001b[39;00m\n\u001b[1;32m     <a href='vscode-notebook-cell:/Users/ana.cruz/Documents/ITBA/SIA/SIA-tps/TP4/hopfield.ipynb#ch0000001?line=15'>16</a>\u001b[0m \u001b[39mif\u001b[39;00m success \u001b[39mis\u001b[39;00m \u001b[39mnot\u001b[39;00m \u001b[39mNone\u001b[39;00m:\n",
      "File \u001b[0;32m~/Documents/ITBA/SIA/SIA-tps/TP4/networks/hopfield.py:37\u001b[0m, in \u001b[0;36mHopfield.train\u001b[0;34m(self, input_value, iterations)\u001b[0m\n\u001b[1;32m     <a href='file:///Users/ana.cruz/Documents/ITBA/SIA/SIA-tps/TP4/networks/hopfield.py?line=34'>35</a>\u001b[0m energy_values \u001b[39m=\u001b[39m []\n\u001b[1;32m     <a href='file:///Users/ana.cruz/Documents/ITBA/SIA/SIA-tps/TP4/networks/hopfield.py?line=35'>36</a>\u001b[0m current_state \u001b[39m=\u001b[39m input_value\u001b[39m.\u001b[39mcopy()\n\u001b[0;32m---> <a href='file:///Users/ana.cruz/Documents/ITBA/SIA/SIA-tps/TP4/networks/hopfield.py?line=36'>37</a>\u001b[0m \u001b[39mwhile\u001b[39;00m i \u001b[39m<\u001b[39m iterations \u001b[39mand\u001b[39;00m \u001b[39mnot\u001b[39;00m np\u001b[39m.\u001b[39marray_equal(current_state, previous_state):\n\u001b[1;32m     <a href='file:///Users/ana.cruz/Documents/ITBA/SIA/SIA-tps/TP4/networks/hopfield.py?line=37'>38</a>\u001b[0m     previous_state \u001b[39m=\u001b[39m current_state\u001b[39m.\u001b[39mcopy()\n\u001b[1;32m     <a href='file:///Users/ana.cruz/Documents/ITBA/SIA/SIA-tps/TP4/networks/hopfield.py?line=38'>39</a>\u001b[0m     energy_values\u001b[39m.\u001b[39mappend(\u001b[39mself\u001b[39m\u001b[39m.\u001b[39mcalculate_energy(current_state))\n",
      "\u001b[0;31mUnboundLocalError\u001b[0m: local variable 'previous_state' referenced before assignment"
     ]
    }
   ],
   "source": [
    "from networks.hopfield import Hopfield\n",
    "from ex_2.ortogonality import most_alike_patterns, most_different_patterns\n",
    "from ex_2.letters import get_patterns, print_patterns_with_asterisks\n",
    "iterations = 1000\n",
    "#4 letras para almacenar\n",
    "stored_inputs = most_different_patterns()\n",
    "hopfield = Hopfield(stored_inputs)\n",
    "#letra cualquiera, poner literal el ascii de la letra deseada\n",
    "input_value = get_patterns('A')[0]\n",
    "#para imprimir un patron (-1, 1,...) con asteriscos\n",
    "# print_patterns_with_asterisks([input_value]) \n",
    "\n",
    "final_state, success = hopfield.train(input_value, iterations)\n",
    "\n",
    "#imprimir letra final state print_with asterisks\n",
    "\n",
    "if success is not None:\n",
    "    print(\"Found pattern \")\n",
    "else:\n",
    "    print(\"No pattern found\")"
   ]
  }
 ],
 "metadata": {
  "interpreter": {
   "hash": "b0fa6594d8f4cbf19f97940f81e996739fb7646882a419484c72d19e05852a7e"
  },
  "kernelspec": {
   "display_name": "Python 3.9.13 64-bit",
   "language": "python",
   "name": "python3"
  },
  "language_info": {
   "codemirror_mode": {
    "name": "ipython",
    "version": 3
   },
   "file_extension": ".py",
   "mimetype": "text/x-python",
   "name": "python",
   "nbconvert_exporter": "python",
   "pygments_lexer": "ipython3",
   "version": "3.9.13"
  },
  "orig_nbformat": 4
 },
 "nbformat": 4,
 "nbformat_minor": 2
}

{
 "cells": [
  {
   "cell_type": "code",
   "execution_count": null,
   "metadata": {},
   "outputs": [],
   "source": [
    "from networks.hopfield import Hopfield\n",
    "from ex_2.ortogonality import most_alike_patterns, most_different_patterns\n",
    "from ex_2.letters import get_patterns, print_patterns_with_asterisks, get_noise_patterns\n",
    "import matplotlib.pyplot as plt\n",
    "import numpy as np\n",
    "iterations = 10\n",
    "#4 letras para almacenar\n",
    "stored_inputs = most_different_patterns()\n",
    "\n",
    "hopfield = Hopfield(stored_inputs)\n"
   ]
  },
  {
   "cell_type": "code",
   "execution_count": null,
   "metadata": {},
   "outputs": [],
   "source": [
    "#letra cualquiera, poner literal el ascii de la letra deseada\n",
    "input_value = get_noise_patterns( [get_patterns('X')[0]], 0.0)[0]\n",
    "print(\"Letter: X, noise probability: 30%\")\n",
    "print_patterns_with_asterisks([input_value])\n",
    "#para imprimir un patron (-1, 1,...) con asteriscos\n",
    "# print_patterns_with_asterisks([input_value]) \n",
    "\n",
    "final_state, success, iteration, vector_of_states, energy_values = hopfield.train(input_value, iterations)\n",
    "\n",
    "if success is not None:\n",
    "    print(\"Found pattern in {} iterations\".format(iteration))\n",
    "else:\n",
    "    print(\"No pattern found iterating {} times\".format(iterations))\n",
    "#imprimir letra final state print_with asterisks\n",
    "#print_patterns_with_asterisks(vector_of_states)\n",
    "#print_patterns_with_asterisks([final_state]) "
   ]
  },
  {
   "cell_type": "code",
   "execution_count": null,
   "metadata": {},
   "outputs": [],
   "source": [
    "#letra cualquiera, poner literal el ascii de la letra deseada\n",
    "patterns = get_patterns(['G', 'I', 'M', 'X'])\n",
    "input = get_noise_patterns( patterns, 0.25)\n",
    "input1 = input[0]\n",
    "input2 = input[1]\n",
    "input3 = input[2]\n",
    "input4 = input[3]\n",
    "print(\"Letter: X, noise probability: 30%\")\n",
    "\n",
    "#para imprimir un patron (-1, 1,...) con asteriscos\n",
    "# print_patterns_with_asterisks([input_value]) \n",
    "\n",
    "\n",
    "final_state, success, iteration, vector_of_states, energy_values1 = hopfield.train(input1, iterations)\n",
    "if success is not None:\n",
    "    print(\"Found pattern in {} iterations\".format(iteration))\n",
    "else:\n",
    "    print(\"No pattern found iterating {} times\".format(iterations))\n",
    "\n",
    "\n",
    "\n",
    "final_state, success, iteration, vector_of_states, energy_values2 = hopfield.train(input2, iterations)\n",
    "if success is not None:\n",
    "    print(\"Found pattern in {} iterations\".format(iteration))\n",
    "else:\n",
    "    print(\"No pattern found iterating {} times\".format(iterations))\n",
    "\n",
    "\n",
    "\n",
    "final_state, success, iteration, vector_of_states, energy_values3 = hopfield.train(input3, iterations)\n",
    "if success is not None:\n",
    "    print(\"Found pattern in {} iterations\".format(iteration))\n",
    "else:\n",
    "    print(\"No pattern found iterating {} times\".format(iterations))\n",
    "\n",
    "    \n",
    "final_state, success, iteration, vector_of_states, energy_values4 = hopfield.train(input4, iterations)\n",
    "if success is not None:\n",
    "    print(\"Found pattern in {} iterations\".format(iteration))\n",
    "else:\n",
    "    print(\"No pattern found iterating {} times\".format(iterations))\n",
    "\n",
    "\n",
    "#imprimir letra final state print_with asterisks\n",
    "#print_patterns_with_asterisks(vector_of_states)\n",
    "#print_patterns_with_asterisks([final_state]) "
   ]
  },
  {
   "cell_type": "code",
   "execution_count": null,
   "metadata": {},
   "outputs": [],
   "source": [
    "#Plot energy for every iteration\n",
    "\n",
    "plt.xlabel(\"Iterations\")\n",
    "plt.ylabel(\"Energy\")\n",
    "#x axis should only have integers\n",
    "\n",
    "plt.plot(energy_values1, label=\"Letter: A\")\n",
    "plt.plot(energy_values2, label=\"Letter: H\")\n",
    "plt.plot(energy_values3, label=\"Letter: K\")\n",
    "plt.plot(energy_values4, label=\"Letter: X\")\n",
    "#show label best\n",
    "plt.legend()\n",
    "plt.show()\n",
    "\n",
    "\n",
    "\n",
    "    "
   ]
  }
 ],
 "metadata": {
  "interpreter": {
   "hash": "b0fa6594d8f4cbf19f97940f81e996739fb7646882a419484c72d19e05852a7e"
  },
  "kernelspec": {
   "display_name": "Python 3.9.13 64-bit",
   "language": "python",
   "name": "python3"
  },
  "language_info": {
   "codemirror_mode": {
    "name": "ipython",
    "version": 3
   },
   "file_extension": ".py",
   "mimetype": "text/x-python",
   "name": "python",
   "nbconvert_exporter": "python",
   "pygments_lexer": "ipython3",
   "version": "3.9.13"
  },
  "orig_nbformat": 4
 },
 "nbformat": 4,
 "nbformat_minor": 2
}

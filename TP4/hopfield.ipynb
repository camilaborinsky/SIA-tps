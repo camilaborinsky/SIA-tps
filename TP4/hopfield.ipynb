{
 "cells": [
  {
   "cell_type": "code",
   "execution_count": null,
   "metadata": {},
   "outputs": [],
   "source": []
  },
  {
   "cell_type": "code",
   "execution_count": 2,
   "metadata": {},
   "outputs": [
    {
     "name": "stdout",
     "output_type": "stream",
     "text": [
      "Patterns: ('G', 'I', 'M', 'X'), Avg_dot: 5.0\n",
      "[-0.56  1.52  0.88  1.52 -0.56 -1.28  0.8  -1.52 -0.88 -1.28 -1.28  1.12\n",
      " -1.12  1.12  0.4  -1.28  1.52 -1.52 -0.16  0.4  -1.28  1.52  0.16  1.52\n",
      "  0.4 ]\n",
      "[-1.  1.  1.  1. -1. -1.  1. -1. -1. -1. -1.  1. -1.  1.  1. -1.  1. -1.\n",
      " -1.  1. -1.  1.  1.  1.  1.]\n",
      "    *  *  *    \n",
      "    *          \n",
      "    *     *  * \n",
      "    *        * \n",
      "    *  *  *  * \n",
      "\n",
      "\n",
      "Found pattern \n"
     ]
    }
   ],
   "source": [
    "from networks.hopfield import Hopfield\n",
    "from ex_2.ortogonality import most_alike_patterns, most_different_patterns\n",
    "from ex_2.letters import get_patterns, print_patterns_with_asterisks\n",
    "iterations = 30000\n",
    "#4 letras para almacenar\n",
    "stored_inputs = most_different_patterns()\n",
    "hopfield = Hopfield(stored_inputs)\n",
    "#letra cualquiera, poner literal el ascii de la letra deseada\n",
    "input_value = get_patterns('G')[0]\n",
    "#para imprimir un patron (-1, 1,...) con asteriscos\n",
    "# print_patterns_with_asterisks([input_value]) \n",
    "\n",
    "final_state, success = hopfield.train(input_value, iterations)\n",
    "\n",
    "#imprimir letra final state print_with asterisks\n",
    "print_patterns_with_asterisks([final_state]) \n",
    "if success is not None:\n",
    "    print(\"Found pattern \")\n",
    "else:\n",
    "    print(\"No pattern found\")"
   ]
  }
 ],
 "metadata": {
  "interpreter": {
   "hash": "b0fa6594d8f4cbf19f97940f81e996739fb7646882a419484c72d19e05852a7e"
  },
  "kernelspec": {
   "display_name": "Python 3.9.13 64-bit",
   "language": "python",
   "name": "python3"
  },
  "language_info": {
   "codemirror_mode": {
    "name": "ipython",
    "version": 3
   },
   "file_extension": ".py",
   "mimetype": "text/x-python",
   "name": "python",
   "nbconvert_exporter": "python",
   "pygments_lexer": "ipython3",
   "version": "3.8.10"
  },
  "orig_nbformat": 4
 },
 "nbformat": 4,
 "nbformat_minor": 2
}

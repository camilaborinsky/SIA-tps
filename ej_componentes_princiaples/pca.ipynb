{
 "cells": [
  {
   "cell_type": "markdown",
   "metadata": {},
   "source": [
    "## Análisis de componentes principales"
   ]
  },
  {
   "cell_type": "code",
   "execution_count": null,
   "metadata": {},
   "outputs": [],
   "source": [
    "from pca import pca\n",
    "import matplotlib.pyplot as plt"
   ]
  },
  {
   "cell_type": "markdown",
   "metadata": {},
   "source": [
    "Parse data file"
   ]
  },
  {
   "cell_type": "code",
   "execution_count": null,
   "metadata": {},
   "outputs": [],
   "source": [
    "data_file_path = \"resources/europe.csv\"\n",
    "f = open(data_file_path)\n",
    "lines = f.readlines()\n",
    "data = [None]*(len(lines)-1)\n",
    "countries = [None]*(len(lines)-1)\n",
    "for i,line in enumerate(lines):\n",
    "    if i == 0:\n",
    "        continue\n",
    "    data[i-1] = [float(x) for x in line.split(\",\")[1:]]\n",
    "    countries[i-1] = line.split(\",\")[0][1:-1]\n",
    "attributes = [att[1:-1] for att in lines[0].strip().split(\",\")[1:]]\n",
    "\n",
    "f.close()"
   ]
  },
  {
   "cell_type": "markdown",
   "metadata": {},
   "source": [
    "Estandarizar variables para poder compararlos"
   ]
  },
  {
   "cell_type": "code",
   "execution_count": null,
   "metadata": {},
   "outputs": [],
   "source": [
    "model = pca( normalize=True)\n",
    "results = model.fit_transform(data, col_labels=attributes, row_labels=countries)"
   ]
  },
  {
   "cell_type": "markdown",
   "metadata": {},
   "source": [
    "Graficar las cargas de las variables para cada componente principal"
   ]
  },
  {
   "cell_type": "code",
   "execution_count": null,
   "metadata": {},
   "outputs": [],
   "source": [
    "for i in range(len(results[\"loadings\"])): \n",
    "    plt.figure(i)\n",
    "    plt.title(\"PCA \"+str(i+1))\n",
    "    plt.barh(range(len(results[\"loadings\"].iloc[i])), results[\"loadings\"].iloc[i])\n",
    "    plt.yticks(range(len(results[\"loadings\"].iloc[i])), results[\"loadings\"].columns)"
   ]
  },
  {
   "cell_type": "markdown",
   "metadata": {},
   "source": [
    "Graficar la PC 1 para los distintos países"
   ]
  },
  {
   "cell_type": "code",
   "execution_count": null,
   "metadata": {},
   "outputs": [],
   "source": [
    "plt.figure(figsize=(20,20))\n",
    "plt.barh(range(len(results[\"PC\"][\"PC1\"])), results[\"PC\"][\"PC1\"])\n",
    "plt.yticks(range(len(results[\"PC\"][\"PC1\"])), results[\"PC\"][\"PC1\"].index)"
   ]
  },
  {
   "cell_type": "markdown",
   "metadata": {},
   "source": [
    "3 gráficos:\n",
    "- Proporción de varianza de cada Componente principal\n",
    "- Scatter de los registros PC1 vs PC2\n",
    "- Scatter + dirección de las variables PC1 vs PC2"
   ]
  },
  {
   "cell_type": "code",
   "execution_count": null,
   "metadata": {},
   "outputs": [],
   "source": [
    "model.plot()\n",
    "model.scatter(legend=False, gradient='#FFFFFF')\n",
    "model.biplot(legend=False, label=True)\n",
    "model.biplot(legend=False, label=True, PC=[0, 2])"
   ]
  },
  {
   "cell_type": "markdown",
   "metadata": {},
   "source": [
    "Mapa de Europa para ver si los países que geográficamene están cerca son similares según PC 1"
   ]
  },
  {
   "cell_type": "markdown",
   "metadata": {},
   "source": [
    "![Mapa de europa](./european-map.jpg)"
   ]
  }
 ],
 "metadata": {
  "interpreter": {
   "hash": "916dbcbb3f70747c44a77c7bcd40155683ae19c65e1c03b4aa3499c5328201f1"
  },
  "kernelspec": {
   "display_name": "Python 3.8.10 64-bit",
   "language": "python",
   "name": "python3"
  },
  "language_info": {
   "codemirror_mode": {
    "name": "ipython",
    "version": 3
   },
   "file_extension": ".py",
   "mimetype": "text/x-python",
   "name": "python",
   "nbconvert_exporter": "python",
   "pygments_lexer": "ipython3",
   "version": "3.8.10"
  },
  "orig_nbformat": 4
 },
 "nbformat": 4,
 "nbformat_minor": 2
}
